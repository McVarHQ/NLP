{
  "nbformat": 4,
  "nbformat_minor": 0,
  "metadata": {
    "colab": {
      "provenance": [],
      "collapsed_sections": [
        "upQGfR_aUDiz"
      ]
    },
    "kernelspec": {
      "name": "python3",
      "display_name": "Python 3"
    },
    "language_info": {
      "name": "python"
    },
    "widgets": {
      "application/vnd.jupyter.widget-state+json": {
        "7c78235070ad49529c97bb96028cd9c3": {
          "model_module": "@jupyter-widgets/controls",
          "model_name": "HBoxModel",
          "model_module_version": "1.5.0",
          "state": {
            "_dom_classes": [],
            "_model_module": "@jupyter-widgets/controls",
            "_model_module_version": "1.5.0",
            "_model_name": "HBoxModel",
            "_view_count": null,
            "_view_module": "@jupyter-widgets/controls",
            "_view_module_version": "1.5.0",
            "_view_name": "HBoxView",
            "box_style": "",
            "children": [
              "IPY_MODEL_9ddf72e62b60496298ec1511ce64c504",
              "IPY_MODEL_90f2f971a2774714b10c53b98be51d29",
              "IPY_MODEL_69806c6573bd46b6bc32b0e1f0352fb8"
            ],
            "layout": "IPY_MODEL_452cf798475d48b0b0f7d2b550c03c16"
          }
        },
        "9ddf72e62b60496298ec1511ce64c504": {
          "model_module": "@jupyter-widgets/controls",
          "model_name": "HTMLModel",
          "model_module_version": "1.5.0",
          "state": {
            "_dom_classes": [],
            "_model_module": "@jupyter-widgets/controls",
            "_model_module_version": "1.5.0",
            "_model_name": "HTMLModel",
            "_view_count": null,
            "_view_module": "@jupyter-widgets/controls",
            "_view_module_version": "1.5.0",
            "_view_name": "HTMLView",
            "description": "",
            "description_tooltip": null,
            "layout": "IPY_MODEL_12ce88dd263944f698e0db69b4a35180",
            "placeholder": "​",
            "style": "IPY_MODEL_3eee9743e13a406f84c417516a23e03c",
            "value": "Downloading readme: 100%"
          }
        },
        "90f2f971a2774714b10c53b98be51d29": {
          "model_module": "@jupyter-widgets/controls",
          "model_name": "FloatProgressModel",
          "model_module_version": "1.5.0",
          "state": {
            "_dom_classes": [],
            "_model_module": "@jupyter-widgets/controls",
            "_model_module_version": "1.5.0",
            "_model_name": "FloatProgressModel",
            "_view_count": null,
            "_view_module": "@jupyter-widgets/controls",
            "_view_module_version": "1.5.0",
            "_view_name": "ProgressView",
            "bar_style": "success",
            "description": "",
            "description_tooltip": null,
            "layout": "IPY_MODEL_4b1f2e826bba476f93dd92d0f37789b8",
            "max": 8916,
            "min": 0,
            "orientation": "horizontal",
            "style": "IPY_MODEL_27214e99621d41fb9fa3c255495c4527",
            "value": 8916
          }
        },
        "69806c6573bd46b6bc32b0e1f0352fb8": {
          "model_module": "@jupyter-widgets/controls",
          "model_name": "HTMLModel",
          "model_module_version": "1.5.0",
          "state": {
            "_dom_classes": [],
            "_model_module": "@jupyter-widgets/controls",
            "_model_module_version": "1.5.0",
            "_model_name": "HTMLModel",
            "_view_count": null,
            "_view_module": "@jupyter-widgets/controls",
            "_view_module_version": "1.5.0",
            "_view_name": "HTMLView",
            "description": "",
            "description_tooltip": null,
            "layout": "IPY_MODEL_3cba8e63b68248d3acc794db077afef4",
            "placeholder": "​",
            "style": "IPY_MODEL_130e2048eca5447cb8ca4a1a4de14fc0",
            "value": " 8.92k/8.92k [00:00&lt;00:00, 146kB/s]"
          }
        },
        "452cf798475d48b0b0f7d2b550c03c16": {
          "model_module": "@jupyter-widgets/base",
          "model_name": "LayoutModel",
          "model_module_version": "1.2.0",
          "state": {
            "_model_module": "@jupyter-widgets/base",
            "_model_module_version": "1.2.0",
            "_model_name": "LayoutModel",
            "_view_count": null,
            "_view_module": "@jupyter-widgets/base",
            "_view_module_version": "1.2.0",
            "_view_name": "LayoutView",
            "align_content": null,
            "align_items": null,
            "align_self": null,
            "border": null,
            "bottom": null,
            "display": null,
            "flex": null,
            "flex_flow": null,
            "grid_area": null,
            "grid_auto_columns": null,
            "grid_auto_flow": null,
            "grid_auto_rows": null,
            "grid_column": null,
            "grid_gap": null,
            "grid_row": null,
            "grid_template_areas": null,
            "grid_template_columns": null,
            "grid_template_rows": null,
            "height": null,
            "justify_content": null,
            "justify_items": null,
            "left": null,
            "margin": null,
            "max_height": null,
            "max_width": null,
            "min_height": null,
            "min_width": null,
            "object_fit": null,
            "object_position": null,
            "order": null,
            "overflow": null,
            "overflow_x": null,
            "overflow_y": null,
            "padding": null,
            "right": null,
            "top": null,
            "visibility": null,
            "width": null
          }
        },
        "12ce88dd263944f698e0db69b4a35180": {
          "model_module": "@jupyter-widgets/base",
          "model_name": "LayoutModel",
          "model_module_version": "1.2.0",
          "state": {
            "_model_module": "@jupyter-widgets/base",
            "_model_module_version": "1.2.0",
            "_model_name": "LayoutModel",
            "_view_count": null,
            "_view_module": "@jupyter-widgets/base",
            "_view_module_version": "1.2.0",
            "_view_name": "LayoutView",
            "align_content": null,
            "align_items": null,
            "align_self": null,
            "border": null,
            "bottom": null,
            "display": null,
            "flex": null,
            "flex_flow": null,
            "grid_area": null,
            "grid_auto_columns": null,
            "grid_auto_flow": null,
            "grid_auto_rows": null,
            "grid_column": null,
            "grid_gap": null,
            "grid_row": null,
            "grid_template_areas": null,
            "grid_template_columns": null,
            "grid_template_rows": null,
            "height": null,
            "justify_content": null,
            "justify_items": null,
            "left": null,
            "margin": null,
            "max_height": null,
            "max_width": null,
            "min_height": null,
            "min_width": null,
            "object_fit": null,
            "object_position": null,
            "order": null,
            "overflow": null,
            "overflow_x": null,
            "overflow_y": null,
            "padding": null,
            "right": null,
            "top": null,
            "visibility": null,
            "width": null
          }
        },
        "3eee9743e13a406f84c417516a23e03c": {
          "model_module": "@jupyter-widgets/controls",
          "model_name": "DescriptionStyleModel",
          "model_module_version": "1.5.0",
          "state": {
            "_model_module": "@jupyter-widgets/controls",
            "_model_module_version": "1.5.0",
            "_model_name": "DescriptionStyleModel",
            "_view_count": null,
            "_view_module": "@jupyter-widgets/base",
            "_view_module_version": "1.2.0",
            "_view_name": "StyleView",
            "description_width": ""
          }
        },
        "4b1f2e826bba476f93dd92d0f37789b8": {
          "model_module": "@jupyter-widgets/base",
          "model_name": "LayoutModel",
          "model_module_version": "1.2.0",
          "state": {
            "_model_module": "@jupyter-widgets/base",
            "_model_module_version": "1.2.0",
            "_model_name": "LayoutModel",
            "_view_count": null,
            "_view_module": "@jupyter-widgets/base",
            "_view_module_version": "1.2.0",
            "_view_name": "LayoutView",
            "align_content": null,
            "align_items": null,
            "align_self": null,
            "border": null,
            "bottom": null,
            "display": null,
            "flex": null,
            "flex_flow": null,
            "grid_area": null,
            "grid_auto_columns": null,
            "grid_auto_flow": null,
            "grid_auto_rows": null,
            "grid_column": null,
            "grid_gap": null,
            "grid_row": null,
            "grid_template_areas": null,
            "grid_template_columns": null,
            "grid_template_rows": null,
            "height": null,
            "justify_content": null,
            "justify_items": null,
            "left": null,
            "margin": null,
            "max_height": null,
            "max_width": null,
            "min_height": null,
            "min_width": null,
            "object_fit": null,
            "object_position": null,
            "order": null,
            "overflow": null,
            "overflow_x": null,
            "overflow_y": null,
            "padding": null,
            "right": null,
            "top": null,
            "visibility": null,
            "width": null
          }
        },
        "27214e99621d41fb9fa3c255495c4527": {
          "model_module": "@jupyter-widgets/controls",
          "model_name": "ProgressStyleModel",
          "model_module_version": "1.5.0",
          "state": {
            "_model_module": "@jupyter-widgets/controls",
            "_model_module_version": "1.5.0",
            "_model_name": "ProgressStyleModel",
            "_view_count": null,
            "_view_module": "@jupyter-widgets/base",
            "_view_module_version": "1.2.0",
            "_view_name": "StyleView",
            "bar_color": null,
            "description_width": ""
          }
        },
        "3cba8e63b68248d3acc794db077afef4": {
          "model_module": "@jupyter-widgets/base",
          "model_name": "LayoutModel",
          "model_module_version": "1.2.0",
          "state": {
            "_model_module": "@jupyter-widgets/base",
            "_model_module_version": "1.2.0",
            "_model_name": "LayoutModel",
            "_view_count": null,
            "_view_module": "@jupyter-widgets/base",
            "_view_module_version": "1.2.0",
            "_view_name": "LayoutView",
            "align_content": null,
            "align_items": null,
            "align_self": null,
            "border": null,
            "bottom": null,
            "display": null,
            "flex": null,
            "flex_flow": null,
            "grid_area": null,
            "grid_auto_columns": null,
            "grid_auto_flow": null,
            "grid_auto_rows": null,
            "grid_column": null,
            "grid_gap": null,
            "grid_row": null,
            "grid_template_areas": null,
            "grid_template_columns": null,
            "grid_template_rows": null,
            "height": null,
            "justify_content": null,
            "justify_items": null,
            "left": null,
            "margin": null,
            "max_height": null,
            "max_width": null,
            "min_height": null,
            "min_width": null,
            "object_fit": null,
            "object_position": null,
            "order": null,
            "overflow": null,
            "overflow_x": null,
            "overflow_y": null,
            "padding": null,
            "right": null,
            "top": null,
            "visibility": null,
            "width": null
          }
        },
        "130e2048eca5447cb8ca4a1a4de14fc0": {
          "model_module": "@jupyter-widgets/controls",
          "model_name": "DescriptionStyleModel",
          "model_module_version": "1.5.0",
          "state": {
            "_model_module": "@jupyter-widgets/controls",
            "_model_module_version": "1.5.0",
            "_model_name": "DescriptionStyleModel",
            "_view_count": null,
            "_view_module": "@jupyter-widgets/base",
            "_view_module_version": "1.2.0",
            "_view_name": "StyleView",
            "description_width": ""
          }
        },
        "ab0283fb0a98469fab73b9eac6bf0ca0": {
          "model_module": "@jupyter-widgets/controls",
          "model_name": "HBoxModel",
          "model_module_version": "1.5.0",
          "state": {
            "_dom_classes": [],
            "_model_module": "@jupyter-widgets/controls",
            "_model_module_version": "1.5.0",
            "_model_name": "HBoxModel",
            "_view_count": null,
            "_view_module": "@jupyter-widgets/controls",
            "_view_module_version": "1.5.0",
            "_view_name": "HBoxView",
            "box_style": "",
            "children": [
              "IPY_MODEL_83da4bcf72d54871b423c93444f51c6f",
              "IPY_MODEL_db95c336cd304fbb98a921196b4bc8d6",
              "IPY_MODEL_2ea785bd509e4a929385277933fc7082"
            ],
            "layout": "IPY_MODEL_0b1ae713898c429f8997cd3861a1db3b"
          }
        },
        "83da4bcf72d54871b423c93444f51c6f": {
          "model_module": "@jupyter-widgets/controls",
          "model_name": "HTMLModel",
          "model_module_version": "1.5.0",
          "state": {
            "_dom_classes": [],
            "_model_module": "@jupyter-widgets/controls",
            "_model_module_version": "1.5.0",
            "_model_name": "HTMLModel",
            "_view_count": null,
            "_view_module": "@jupyter-widgets/controls",
            "_view_module_version": "1.5.0",
            "_view_name": "HTMLView",
            "description": "",
            "description_tooltip": null,
            "layout": "IPY_MODEL_f8ca0980f00741dab0d1a01fcff60ca5",
            "placeholder": "​",
            "style": "IPY_MODEL_62a22dd44ec44d6ba79c2a7a4b82d2b1",
            "value": "Downloading data: 100%"
          }
        },
        "db95c336cd304fbb98a921196b4bc8d6": {
          "model_module": "@jupyter-widgets/controls",
          "model_name": "FloatProgressModel",
          "model_module_version": "1.5.0",
          "state": {
            "_dom_classes": [],
            "_model_module": "@jupyter-widgets/controls",
            "_model_module_version": "1.5.0",
            "_model_name": "FloatProgressModel",
            "_view_count": null,
            "_view_module": "@jupyter-widgets/controls",
            "_view_module_version": "1.5.0",
            "_view_name": "ProgressView",
            "bar_style": "success",
            "description": "",
            "description_tooltip": null,
            "layout": "IPY_MODEL_13b8a0bbe4de4d2d9b7cdec50b65546a",
            "max": 16369982,
            "min": 0,
            "orientation": "horizontal",
            "style": "IPY_MODEL_5af9fe447b654a46a837f05fa52e56bd",
            "value": 16369982
          }
        },
        "2ea785bd509e4a929385277933fc7082": {
          "model_module": "@jupyter-widgets/controls",
          "model_name": "HTMLModel",
          "model_module_version": "1.5.0",
          "state": {
            "_dom_classes": [],
            "_model_module": "@jupyter-widgets/controls",
            "_model_module_version": "1.5.0",
            "_model_name": "HTMLModel",
            "_view_count": null,
            "_view_module": "@jupyter-widgets/controls",
            "_view_module_version": "1.5.0",
            "_view_name": "HTMLView",
            "description": "",
            "description_tooltip": null,
            "layout": "IPY_MODEL_316a695e00714984890bdca9eb6b1225",
            "placeholder": "​",
            "style": "IPY_MODEL_f1e9164cf5e643f3aa14c3efec6e0ace",
            "value": " 16.4M/16.4M [00:00&lt;00:00, 28.3MB/s]"
          }
        },
        "0b1ae713898c429f8997cd3861a1db3b": {
          "model_module": "@jupyter-widgets/base",
          "model_name": "LayoutModel",
          "model_module_version": "1.2.0",
          "state": {
            "_model_module": "@jupyter-widgets/base",
            "_model_module_version": "1.2.0",
            "_model_name": "LayoutModel",
            "_view_count": null,
            "_view_module": "@jupyter-widgets/base",
            "_view_module_version": "1.2.0",
            "_view_name": "LayoutView",
            "align_content": null,
            "align_items": null,
            "align_self": null,
            "border": null,
            "bottom": null,
            "display": null,
            "flex": null,
            "flex_flow": null,
            "grid_area": null,
            "grid_auto_columns": null,
            "grid_auto_flow": null,
            "grid_auto_rows": null,
            "grid_column": null,
            "grid_gap": null,
            "grid_row": null,
            "grid_template_areas": null,
            "grid_template_columns": null,
            "grid_template_rows": null,
            "height": null,
            "justify_content": null,
            "justify_items": null,
            "left": null,
            "margin": null,
            "max_height": null,
            "max_width": null,
            "min_height": null,
            "min_width": null,
            "object_fit": null,
            "object_position": null,
            "order": null,
            "overflow": null,
            "overflow_x": null,
            "overflow_y": null,
            "padding": null,
            "right": null,
            "top": null,
            "visibility": null,
            "width": null
          }
        },
        "f8ca0980f00741dab0d1a01fcff60ca5": {
          "model_module": "@jupyter-widgets/base",
          "model_name": "LayoutModel",
          "model_module_version": "1.2.0",
          "state": {
            "_model_module": "@jupyter-widgets/base",
            "_model_module_version": "1.2.0",
            "_model_name": "LayoutModel",
            "_view_count": null,
            "_view_module": "@jupyter-widgets/base",
            "_view_module_version": "1.2.0",
            "_view_name": "LayoutView",
            "align_content": null,
            "align_items": null,
            "align_self": null,
            "border": null,
            "bottom": null,
            "display": null,
            "flex": null,
            "flex_flow": null,
            "grid_area": null,
            "grid_auto_columns": null,
            "grid_auto_flow": null,
            "grid_auto_rows": null,
            "grid_column": null,
            "grid_gap": null,
            "grid_row": null,
            "grid_template_areas": null,
            "grid_template_columns": null,
            "grid_template_rows": null,
            "height": null,
            "justify_content": null,
            "justify_items": null,
            "left": null,
            "margin": null,
            "max_height": null,
            "max_width": null,
            "min_height": null,
            "min_width": null,
            "object_fit": null,
            "object_position": null,
            "order": null,
            "overflow": null,
            "overflow_x": null,
            "overflow_y": null,
            "padding": null,
            "right": null,
            "top": null,
            "visibility": null,
            "width": null
          }
        },
        "62a22dd44ec44d6ba79c2a7a4b82d2b1": {
          "model_module": "@jupyter-widgets/controls",
          "model_name": "DescriptionStyleModel",
          "model_module_version": "1.5.0",
          "state": {
            "_model_module": "@jupyter-widgets/controls",
            "_model_module_version": "1.5.0",
            "_model_name": "DescriptionStyleModel",
            "_view_count": null,
            "_view_module": "@jupyter-widgets/base",
            "_view_module_version": "1.2.0",
            "_view_name": "StyleView",
            "description_width": ""
          }
        },
        "13b8a0bbe4de4d2d9b7cdec50b65546a": {
          "model_module": "@jupyter-widgets/base",
          "model_name": "LayoutModel",
          "model_module_version": "1.2.0",
          "state": {
            "_model_module": "@jupyter-widgets/base",
            "_model_module_version": "1.2.0",
            "_model_name": "LayoutModel",
            "_view_count": null,
            "_view_module": "@jupyter-widgets/base",
            "_view_module_version": "1.2.0",
            "_view_name": "LayoutView",
            "align_content": null,
            "align_items": null,
            "align_self": null,
            "border": null,
            "bottom": null,
            "display": null,
            "flex": null,
            "flex_flow": null,
            "grid_area": null,
            "grid_auto_columns": null,
            "grid_auto_flow": null,
            "grid_auto_rows": null,
            "grid_column": null,
            "grid_gap": null,
            "grid_row": null,
            "grid_template_areas": null,
            "grid_template_columns": null,
            "grid_template_rows": null,
            "height": null,
            "justify_content": null,
            "justify_items": null,
            "left": null,
            "margin": null,
            "max_height": null,
            "max_width": null,
            "min_height": null,
            "min_width": null,
            "object_fit": null,
            "object_position": null,
            "order": null,
            "overflow": null,
            "overflow_x": null,
            "overflow_y": null,
            "padding": null,
            "right": null,
            "top": null,
            "visibility": null,
            "width": null
          }
        },
        "5af9fe447b654a46a837f05fa52e56bd": {
          "model_module": "@jupyter-widgets/controls",
          "model_name": "ProgressStyleModel",
          "model_module_version": "1.5.0",
          "state": {
            "_model_module": "@jupyter-widgets/controls",
            "_model_module_version": "1.5.0",
            "_model_name": "ProgressStyleModel",
            "_view_count": null,
            "_view_module": "@jupyter-widgets/base",
            "_view_module_version": "1.2.0",
            "_view_name": "StyleView",
            "bar_color": null,
            "description_width": ""
          }
        },
        "316a695e00714984890bdca9eb6b1225": {
          "model_module": "@jupyter-widgets/base",
          "model_name": "LayoutModel",
          "model_module_version": "1.2.0",
          "state": {
            "_model_module": "@jupyter-widgets/base",
            "_model_module_version": "1.2.0",
            "_model_name": "LayoutModel",
            "_view_count": null,
            "_view_module": "@jupyter-widgets/base",
            "_view_module_version": "1.2.0",
            "_view_name": "LayoutView",
            "align_content": null,
            "align_items": null,
            "align_self": null,
            "border": null,
            "bottom": null,
            "display": null,
            "flex": null,
            "flex_flow": null,
            "grid_area": null,
            "grid_auto_columns": null,
            "grid_auto_flow": null,
            "grid_auto_rows": null,
            "grid_column": null,
            "grid_gap": null,
            "grid_row": null,
            "grid_template_areas": null,
            "grid_template_columns": null,
            "grid_template_rows": null,
            "height": null,
            "justify_content": null,
            "justify_items": null,
            "left": null,
            "margin": null,
            "max_height": null,
            "max_width": null,
            "min_height": null,
            "min_width": null,
            "object_fit": null,
            "object_position": null,
            "order": null,
            "overflow": null,
            "overflow_x": null,
            "overflow_y": null,
            "padding": null,
            "right": null,
            "top": null,
            "visibility": null,
            "width": null
          }
        },
        "f1e9164cf5e643f3aa14c3efec6e0ace": {
          "model_module": "@jupyter-widgets/controls",
          "model_name": "DescriptionStyleModel",
          "model_module_version": "1.5.0",
          "state": {
            "_model_module": "@jupyter-widgets/controls",
            "_model_module_version": "1.5.0",
            "_model_name": "DescriptionStyleModel",
            "_view_count": null,
            "_view_module": "@jupyter-widgets/base",
            "_view_module_version": "1.2.0",
            "_view_name": "StyleView",
            "description_width": ""
          }
        },
        "96335a85e5fa4e9d90b949c8bd8470db": {
          "model_module": "@jupyter-widgets/controls",
          "model_name": "HBoxModel",
          "model_module_version": "1.5.0",
          "state": {
            "_dom_classes": [],
            "_model_module": "@jupyter-widgets/controls",
            "_model_module_version": "1.5.0",
            "_model_name": "HBoxModel",
            "_view_count": null,
            "_view_module": "@jupyter-widgets/controls",
            "_view_module_version": "1.5.0",
            "_view_name": "HBoxView",
            "box_style": "",
            "children": [
              "IPY_MODEL_a8bf5848afaa44098ff2178d63bc8590",
              "IPY_MODEL_3b7040d41977480eab484681bd52afe7",
              "IPY_MODEL_0b2e75993ef24041b85c21e27e23f38a"
            ],
            "layout": "IPY_MODEL_f285ca68962841ffb457fd9bd4691802"
          }
        },
        "a8bf5848afaa44098ff2178d63bc8590": {
          "model_module": "@jupyter-widgets/controls",
          "model_name": "HTMLModel",
          "model_module_version": "1.5.0",
          "state": {
            "_dom_classes": [],
            "_model_module": "@jupyter-widgets/controls",
            "_model_module_version": "1.5.0",
            "_model_name": "HTMLModel",
            "_view_count": null,
            "_view_module": "@jupyter-widgets/controls",
            "_view_module_version": "1.5.0",
            "_view_name": "HTMLView",
            "description": "",
            "description_tooltip": null,
            "layout": "IPY_MODEL_fc7d1afad9a94cd7850e0478abc7e0de",
            "placeholder": "​",
            "style": "IPY_MODEL_679e77ad36114e19a40655f81bfc5df5",
            "value": "Downloading data: 100%"
          }
        },
        "3b7040d41977480eab484681bd52afe7": {
          "model_module": "@jupyter-widgets/controls",
          "model_name": "FloatProgressModel",
          "model_module_version": "1.5.0",
          "state": {
            "_dom_classes": [],
            "_model_module": "@jupyter-widgets/controls",
            "_model_module_version": "1.5.0",
            "_model_name": "FloatProgressModel",
            "_view_count": null,
            "_view_module": "@jupyter-widgets/controls",
            "_view_module_version": "1.5.0",
            "_view_name": "ProgressView",
            "bar_style": "success",
            "description": "",
            "description_tooltip": null,
            "layout": "IPY_MODEL_4935b30b4e1847018292e1ebfd1f3c55",
            "max": 1350511,
            "min": 0,
            "orientation": "horizontal",
            "style": "IPY_MODEL_022cc945f8cc421094c7e77a774e2bf5",
            "value": 1350511
          }
        },
        "0b2e75993ef24041b85c21e27e23f38a": {
          "model_module": "@jupyter-widgets/controls",
          "model_name": "HTMLModel",
          "model_module_version": "1.5.0",
          "state": {
            "_dom_classes": [],
            "_model_module": "@jupyter-widgets/controls",
            "_model_module_version": "1.5.0",
            "_model_name": "HTMLModel",
            "_view_count": null,
            "_view_module": "@jupyter-widgets/controls",
            "_view_module_version": "1.5.0",
            "_view_name": "HTMLView",
            "description": "",
            "description_tooltip": null,
            "layout": "IPY_MODEL_13554bf86e6b42bab02a1ed57c728a48",
            "placeholder": "​",
            "style": "IPY_MODEL_adcd70e9db474b04a89ad9073fae53bc",
            "value": " 1.35M/1.35M [00:00&lt;00:00, 5.35MB/s]"
          }
        },
        "f285ca68962841ffb457fd9bd4691802": {
          "model_module": "@jupyter-widgets/base",
          "model_name": "LayoutModel",
          "model_module_version": "1.2.0",
          "state": {
            "_model_module": "@jupyter-widgets/base",
            "_model_module_version": "1.2.0",
            "_model_name": "LayoutModel",
            "_view_count": null,
            "_view_module": "@jupyter-widgets/base",
            "_view_module_version": "1.2.0",
            "_view_name": "LayoutView",
            "align_content": null,
            "align_items": null,
            "align_self": null,
            "border": null,
            "bottom": null,
            "display": null,
            "flex": null,
            "flex_flow": null,
            "grid_area": null,
            "grid_auto_columns": null,
            "grid_auto_flow": null,
            "grid_auto_rows": null,
            "grid_column": null,
            "grid_gap": null,
            "grid_row": null,
            "grid_template_areas": null,
            "grid_template_columns": null,
            "grid_template_rows": null,
            "height": null,
            "justify_content": null,
            "justify_items": null,
            "left": null,
            "margin": null,
            "max_height": null,
            "max_width": null,
            "min_height": null,
            "min_width": null,
            "object_fit": null,
            "object_position": null,
            "order": null,
            "overflow": null,
            "overflow_x": null,
            "overflow_y": null,
            "padding": null,
            "right": null,
            "top": null,
            "visibility": null,
            "width": null
          }
        },
        "fc7d1afad9a94cd7850e0478abc7e0de": {
          "model_module": "@jupyter-widgets/base",
          "model_name": "LayoutModel",
          "model_module_version": "1.2.0",
          "state": {
            "_model_module": "@jupyter-widgets/base",
            "_model_module_version": "1.2.0",
            "_model_name": "LayoutModel",
            "_view_count": null,
            "_view_module": "@jupyter-widgets/base",
            "_view_module_version": "1.2.0",
            "_view_name": "LayoutView",
            "align_content": null,
            "align_items": null,
            "align_self": null,
            "border": null,
            "bottom": null,
            "display": null,
            "flex": null,
            "flex_flow": null,
            "grid_area": null,
            "grid_auto_columns": null,
            "grid_auto_flow": null,
            "grid_auto_rows": null,
            "grid_column": null,
            "grid_gap": null,
            "grid_row": null,
            "grid_template_areas": null,
            "grid_template_columns": null,
            "grid_template_rows": null,
            "height": null,
            "justify_content": null,
            "justify_items": null,
            "left": null,
            "margin": null,
            "max_height": null,
            "max_width": null,
            "min_height": null,
            "min_width": null,
            "object_fit": null,
            "object_position": null,
            "order": null,
            "overflow": null,
            "overflow_x": null,
            "overflow_y": null,
            "padding": null,
            "right": null,
            "top": null,
            "visibility": null,
            "width": null
          }
        },
        "679e77ad36114e19a40655f81bfc5df5": {
          "model_module": "@jupyter-widgets/controls",
          "model_name": "DescriptionStyleModel",
          "model_module_version": "1.5.0",
          "state": {
            "_model_module": "@jupyter-widgets/controls",
            "_model_module_version": "1.5.0",
            "_model_name": "DescriptionStyleModel",
            "_view_count": null,
            "_view_module": "@jupyter-widgets/base",
            "_view_module_version": "1.2.0",
            "_view_name": "StyleView",
            "description_width": ""
          }
        },
        "4935b30b4e1847018292e1ebfd1f3c55": {
          "model_module": "@jupyter-widgets/base",
          "model_name": "LayoutModel",
          "model_module_version": "1.2.0",
          "state": {
            "_model_module": "@jupyter-widgets/base",
            "_model_module_version": "1.2.0",
            "_model_name": "LayoutModel",
            "_view_count": null,
            "_view_module": "@jupyter-widgets/base",
            "_view_module_version": "1.2.0",
            "_view_name": "LayoutView",
            "align_content": null,
            "align_items": null,
            "align_self": null,
            "border": null,
            "bottom": null,
            "display": null,
            "flex": null,
            "flex_flow": null,
            "grid_area": null,
            "grid_auto_columns": null,
            "grid_auto_flow": null,
            "grid_auto_rows": null,
            "grid_column": null,
            "grid_gap": null,
            "grid_row": null,
            "grid_template_areas": null,
            "grid_template_columns": null,
            "grid_template_rows": null,
            "height": null,
            "justify_content": null,
            "justify_items": null,
            "left": null,
            "margin": null,
            "max_height": null,
            "max_width": null,
            "min_height": null,
            "min_width": null,
            "object_fit": null,
            "object_position": null,
            "order": null,
            "overflow": null,
            "overflow_x": null,
            "overflow_y": null,
            "padding": null,
            "right": null,
            "top": null,
            "visibility": null,
            "width": null
          }
        },
        "022cc945f8cc421094c7e77a774e2bf5": {
          "model_module": "@jupyter-widgets/controls",
          "model_name": "ProgressStyleModel",
          "model_module_version": "1.5.0",
          "state": {
            "_model_module": "@jupyter-widgets/controls",
            "_model_module_version": "1.5.0",
            "_model_name": "ProgressStyleModel",
            "_view_count": null,
            "_view_module": "@jupyter-widgets/base",
            "_view_module_version": "1.2.0",
            "_view_name": "StyleView",
            "bar_color": null,
            "description_width": ""
          }
        },
        "13554bf86e6b42bab02a1ed57c728a48": {
          "model_module": "@jupyter-widgets/base",
          "model_name": "LayoutModel",
          "model_module_version": "1.2.0",
          "state": {
            "_model_module": "@jupyter-widgets/base",
            "_model_module_version": "1.2.0",
            "_model_name": "LayoutModel",
            "_view_count": null,
            "_view_module": "@jupyter-widgets/base",
            "_view_module_version": "1.2.0",
            "_view_name": "LayoutView",
            "align_content": null,
            "align_items": null,
            "align_self": null,
            "border": null,
            "bottom": null,
            "display": null,
            "flex": null,
            "flex_flow": null,
            "grid_area": null,
            "grid_auto_columns": null,
            "grid_auto_flow": null,
            "grid_auto_rows": null,
            "grid_column": null,
            "grid_gap": null,
            "grid_row": null,
            "grid_template_areas": null,
            "grid_template_columns": null,
            "grid_template_rows": null,
            "height": null,
            "justify_content": null,
            "justify_items": null,
            "left": null,
            "margin": null,
            "max_height": null,
            "max_width": null,
            "min_height": null,
            "min_width": null,
            "object_fit": null,
            "object_position": null,
            "order": null,
            "overflow": null,
            "overflow_x": null,
            "overflow_y": null,
            "padding": null,
            "right": null,
            "top": null,
            "visibility": null,
            "width": null
          }
        },
        "adcd70e9db474b04a89ad9073fae53bc": {
          "model_module": "@jupyter-widgets/controls",
          "model_name": "DescriptionStyleModel",
          "model_module_version": "1.5.0",
          "state": {
            "_model_module": "@jupyter-widgets/controls",
            "_model_module_version": "1.5.0",
            "_model_name": "DescriptionStyleModel",
            "_view_count": null,
            "_view_module": "@jupyter-widgets/base",
            "_view_module_version": "1.2.0",
            "_view_name": "StyleView",
            "description_width": ""
          }
        },
        "1b4a567cae6a490f80c87e4f9f224c9d": {
          "model_module": "@jupyter-widgets/controls",
          "model_name": "HBoxModel",
          "model_module_version": "1.5.0",
          "state": {
            "_dom_classes": [],
            "_model_module": "@jupyter-widgets/controls",
            "_model_module_version": "1.5.0",
            "_model_name": "HBoxModel",
            "_view_count": null,
            "_view_module": "@jupyter-widgets/controls",
            "_view_module_version": "1.5.0",
            "_view_name": "HBoxView",
            "box_style": "",
            "children": [
              "IPY_MODEL_5103abaa0a7f452f8bc198569f4c89aa",
              "IPY_MODEL_8cb14fc1c0b14987bef254f5783d4b4d",
              "IPY_MODEL_8505a178ef93418c8b9137039ad9aef2"
            ],
            "layout": "IPY_MODEL_42eff5f7554d4a298e85c3788b62ffac"
          }
        },
        "5103abaa0a7f452f8bc198569f4c89aa": {
          "model_module": "@jupyter-widgets/controls",
          "model_name": "HTMLModel",
          "model_module_version": "1.5.0",
          "state": {
            "_dom_classes": [],
            "_model_module": "@jupyter-widgets/controls",
            "_model_module_version": "1.5.0",
            "_model_name": "HTMLModel",
            "_view_count": null,
            "_view_module": "@jupyter-widgets/controls",
            "_view_module_version": "1.5.0",
            "_view_name": "HTMLView",
            "description": "",
            "description_tooltip": null,
            "layout": "IPY_MODEL_c877fe6dcad3404dbbff759a44c6c1f1",
            "placeholder": "​",
            "style": "IPY_MODEL_39a597e5cd2e42f89c0ff5fe92f9e864",
            "value": "Generating train split: 100%"
          }
        },
        "8cb14fc1c0b14987bef254f5783d4b4d": {
          "model_module": "@jupyter-widgets/controls",
          "model_name": "FloatProgressModel",
          "model_module_version": "1.5.0",
          "state": {
            "_dom_classes": [],
            "_model_module": "@jupyter-widgets/controls",
            "_model_module_version": "1.5.0",
            "_model_name": "FloatProgressModel",
            "_view_count": null,
            "_view_module": "@jupyter-widgets/controls",
            "_view_module_version": "1.5.0",
            "_view_name": "ProgressView",
            "bar_style": "success",
            "description": "",
            "description_tooltip": null,
            "layout": "IPY_MODEL_6c664017faab4822b8c7a6f1ad7ff611",
            "max": 130319,
            "min": 0,
            "orientation": "horizontal",
            "style": "IPY_MODEL_fc397bfe8c474e649da2f36ec27ddbc2",
            "value": 130319
          }
        },
        "8505a178ef93418c8b9137039ad9aef2": {
          "model_module": "@jupyter-widgets/controls",
          "model_name": "HTMLModel",
          "model_module_version": "1.5.0",
          "state": {
            "_dom_classes": [],
            "_model_module": "@jupyter-widgets/controls",
            "_model_module_version": "1.5.0",
            "_model_name": "HTMLModel",
            "_view_count": null,
            "_view_module": "@jupyter-widgets/controls",
            "_view_module_version": "1.5.0",
            "_view_name": "HTMLView",
            "description": "",
            "description_tooltip": null,
            "layout": "IPY_MODEL_486bf0fc5c8b4226a9d099d52cce04a1",
            "placeholder": "​",
            "style": "IPY_MODEL_adfa3accf98c45a2b4ecbf7a2bde1588",
            "value": " 130319/130319 [00:01&lt;00:00, 70180.20 examples/s]"
          }
        },
        "42eff5f7554d4a298e85c3788b62ffac": {
          "model_module": "@jupyter-widgets/base",
          "model_name": "LayoutModel",
          "model_module_version": "1.2.0",
          "state": {
            "_model_module": "@jupyter-widgets/base",
            "_model_module_version": "1.2.0",
            "_model_name": "LayoutModel",
            "_view_count": null,
            "_view_module": "@jupyter-widgets/base",
            "_view_module_version": "1.2.0",
            "_view_name": "LayoutView",
            "align_content": null,
            "align_items": null,
            "align_self": null,
            "border": null,
            "bottom": null,
            "display": null,
            "flex": null,
            "flex_flow": null,
            "grid_area": null,
            "grid_auto_columns": null,
            "grid_auto_flow": null,
            "grid_auto_rows": null,
            "grid_column": null,
            "grid_gap": null,
            "grid_row": null,
            "grid_template_areas": null,
            "grid_template_columns": null,
            "grid_template_rows": null,
            "height": null,
            "justify_content": null,
            "justify_items": null,
            "left": null,
            "margin": null,
            "max_height": null,
            "max_width": null,
            "min_height": null,
            "min_width": null,
            "object_fit": null,
            "object_position": null,
            "order": null,
            "overflow": null,
            "overflow_x": null,
            "overflow_y": null,
            "padding": null,
            "right": null,
            "top": null,
            "visibility": null,
            "width": null
          }
        },
        "c877fe6dcad3404dbbff759a44c6c1f1": {
          "model_module": "@jupyter-widgets/base",
          "model_name": "LayoutModel",
          "model_module_version": "1.2.0",
          "state": {
            "_model_module": "@jupyter-widgets/base",
            "_model_module_version": "1.2.0",
            "_model_name": "LayoutModel",
            "_view_count": null,
            "_view_module": "@jupyter-widgets/base",
            "_view_module_version": "1.2.0",
            "_view_name": "LayoutView",
            "align_content": null,
            "align_items": null,
            "align_self": null,
            "border": null,
            "bottom": null,
            "display": null,
            "flex": null,
            "flex_flow": null,
            "grid_area": null,
            "grid_auto_columns": null,
            "grid_auto_flow": null,
            "grid_auto_rows": null,
            "grid_column": null,
            "grid_gap": null,
            "grid_row": null,
            "grid_template_areas": null,
            "grid_template_columns": null,
            "grid_template_rows": null,
            "height": null,
            "justify_content": null,
            "justify_items": null,
            "left": null,
            "margin": null,
            "max_height": null,
            "max_width": null,
            "min_height": null,
            "min_width": null,
            "object_fit": null,
            "object_position": null,
            "order": null,
            "overflow": null,
            "overflow_x": null,
            "overflow_y": null,
            "padding": null,
            "right": null,
            "top": null,
            "visibility": null,
            "width": null
          }
        },
        "39a597e5cd2e42f89c0ff5fe92f9e864": {
          "model_module": "@jupyter-widgets/controls",
          "model_name": "DescriptionStyleModel",
          "model_module_version": "1.5.0",
          "state": {
            "_model_module": "@jupyter-widgets/controls",
            "_model_module_version": "1.5.0",
            "_model_name": "DescriptionStyleModel",
            "_view_count": null,
            "_view_module": "@jupyter-widgets/base",
            "_view_module_version": "1.2.0",
            "_view_name": "StyleView",
            "description_width": ""
          }
        },
        "6c664017faab4822b8c7a6f1ad7ff611": {
          "model_module": "@jupyter-widgets/base",
          "model_name": "LayoutModel",
          "model_module_version": "1.2.0",
          "state": {
            "_model_module": "@jupyter-widgets/base",
            "_model_module_version": "1.2.0",
            "_model_name": "LayoutModel",
            "_view_count": null,
            "_view_module": "@jupyter-widgets/base",
            "_view_module_version": "1.2.0",
            "_view_name": "LayoutView",
            "align_content": null,
            "align_items": null,
            "align_self": null,
            "border": null,
            "bottom": null,
            "display": null,
            "flex": null,
            "flex_flow": null,
            "grid_area": null,
            "grid_auto_columns": null,
            "grid_auto_flow": null,
            "grid_auto_rows": null,
            "grid_column": null,
            "grid_gap": null,
            "grid_row": null,
            "grid_template_areas": null,
            "grid_template_columns": null,
            "grid_template_rows": null,
            "height": null,
            "justify_content": null,
            "justify_items": null,
            "left": null,
            "margin": null,
            "max_height": null,
            "max_width": null,
            "min_height": null,
            "min_width": null,
            "object_fit": null,
            "object_position": null,
            "order": null,
            "overflow": null,
            "overflow_x": null,
            "overflow_y": null,
            "padding": null,
            "right": null,
            "top": null,
            "visibility": null,
            "width": null
          }
        },
        "fc397bfe8c474e649da2f36ec27ddbc2": {
          "model_module": "@jupyter-widgets/controls",
          "model_name": "ProgressStyleModel",
          "model_module_version": "1.5.0",
          "state": {
            "_model_module": "@jupyter-widgets/controls",
            "_model_module_version": "1.5.0",
            "_model_name": "ProgressStyleModel",
            "_view_count": null,
            "_view_module": "@jupyter-widgets/base",
            "_view_module_version": "1.2.0",
            "_view_name": "StyleView",
            "bar_color": null,
            "description_width": ""
          }
        },
        "486bf0fc5c8b4226a9d099d52cce04a1": {
          "model_module": "@jupyter-widgets/base",
          "model_name": "LayoutModel",
          "model_module_version": "1.2.0",
          "state": {
            "_model_module": "@jupyter-widgets/base",
            "_model_module_version": "1.2.0",
            "_model_name": "LayoutModel",
            "_view_count": null,
            "_view_module": "@jupyter-widgets/base",
            "_view_module_version": "1.2.0",
            "_view_name": "LayoutView",
            "align_content": null,
            "align_items": null,
            "align_self": null,
            "border": null,
            "bottom": null,
            "display": null,
            "flex": null,
            "flex_flow": null,
            "grid_area": null,
            "grid_auto_columns": null,
            "grid_auto_flow": null,
            "grid_auto_rows": null,
            "grid_column": null,
            "grid_gap": null,
            "grid_row": null,
            "grid_template_areas": null,
            "grid_template_columns": null,
            "grid_template_rows": null,
            "height": null,
            "justify_content": null,
            "justify_items": null,
            "left": null,
            "margin": null,
            "max_height": null,
            "max_width": null,
            "min_height": null,
            "min_width": null,
            "object_fit": null,
            "object_position": null,
            "order": null,
            "overflow": null,
            "overflow_x": null,
            "overflow_y": null,
            "padding": null,
            "right": null,
            "top": null,
            "visibility": null,
            "width": null
          }
        },
        "adfa3accf98c45a2b4ecbf7a2bde1588": {
          "model_module": "@jupyter-widgets/controls",
          "model_name": "DescriptionStyleModel",
          "model_module_version": "1.5.0",
          "state": {
            "_model_module": "@jupyter-widgets/controls",
            "_model_module_version": "1.5.0",
            "_model_name": "DescriptionStyleModel",
            "_view_count": null,
            "_view_module": "@jupyter-widgets/base",
            "_view_module_version": "1.2.0",
            "_view_name": "StyleView",
            "description_width": ""
          }
        },
        "5907c978845e480c8afccdfd4199822e": {
          "model_module": "@jupyter-widgets/controls",
          "model_name": "HBoxModel",
          "model_module_version": "1.5.0",
          "state": {
            "_dom_classes": [],
            "_model_module": "@jupyter-widgets/controls",
            "_model_module_version": "1.5.0",
            "_model_name": "HBoxModel",
            "_view_count": null,
            "_view_module": "@jupyter-widgets/controls",
            "_view_module_version": "1.5.0",
            "_view_name": "HBoxView",
            "box_style": "",
            "children": [
              "IPY_MODEL_7e656fa042364b80bc4ed5161a6b57de",
              "IPY_MODEL_b65f81d6d7f04841a556f1110799dd28",
              "IPY_MODEL_8c58bebff5634d59924738ec1df97fbe"
            ],
            "layout": "IPY_MODEL_c0814553205c4c7799079f37a8ffa643"
          }
        },
        "7e656fa042364b80bc4ed5161a6b57de": {
          "model_module": "@jupyter-widgets/controls",
          "model_name": "HTMLModel",
          "model_module_version": "1.5.0",
          "state": {
            "_dom_classes": [],
            "_model_module": "@jupyter-widgets/controls",
            "_model_module_version": "1.5.0",
            "_model_name": "HTMLModel",
            "_view_count": null,
            "_view_module": "@jupyter-widgets/controls",
            "_view_module_version": "1.5.0",
            "_view_name": "HTMLView",
            "description": "",
            "description_tooltip": null,
            "layout": "IPY_MODEL_34480bbf67ef42f686bd9f361e6a922c",
            "placeholder": "​",
            "style": "IPY_MODEL_0b11a8c0f4c14b2b9d289a775db74f3c",
            "value": "Generating validation split: 100%"
          }
        },
        "b65f81d6d7f04841a556f1110799dd28": {
          "model_module": "@jupyter-widgets/controls",
          "model_name": "FloatProgressModel",
          "model_module_version": "1.5.0",
          "state": {
            "_dom_classes": [],
            "_model_module": "@jupyter-widgets/controls",
            "_model_module_version": "1.5.0",
            "_model_name": "FloatProgressModel",
            "_view_count": null,
            "_view_module": "@jupyter-widgets/controls",
            "_view_module_version": "1.5.0",
            "_view_name": "ProgressView",
            "bar_style": "success",
            "description": "",
            "description_tooltip": null,
            "layout": "IPY_MODEL_7e48be78d66147e69ef6c6a41d10322c",
            "max": 11873,
            "min": 0,
            "orientation": "horizontal",
            "style": "IPY_MODEL_d664dd37c3134e0ba6414d9da005e12a",
            "value": 11873
          }
        },
        "8c58bebff5634d59924738ec1df97fbe": {
          "model_module": "@jupyter-widgets/controls",
          "model_name": "HTMLModel",
          "model_module_version": "1.5.0",
          "state": {
            "_dom_classes": [],
            "_model_module": "@jupyter-widgets/controls",
            "_model_module_version": "1.5.0",
            "_model_name": "HTMLModel",
            "_view_count": null,
            "_view_module": "@jupyter-widgets/controls",
            "_view_module_version": "1.5.0",
            "_view_name": "HTMLView",
            "description": "",
            "description_tooltip": null,
            "layout": "IPY_MODEL_8a803b85a9964427a22e36fedb0d9608",
            "placeholder": "​",
            "style": "IPY_MODEL_d9d23be2fa4b4382a6f18054f234f8fe",
            "value": " 11873/11873 [00:00&lt;00:00, 50169.26 examples/s]"
          }
        },
        "c0814553205c4c7799079f37a8ffa643": {
          "model_module": "@jupyter-widgets/base",
          "model_name": "LayoutModel",
          "model_module_version": "1.2.0",
          "state": {
            "_model_module": "@jupyter-widgets/base",
            "_model_module_version": "1.2.0",
            "_model_name": "LayoutModel",
            "_view_count": null,
            "_view_module": "@jupyter-widgets/base",
            "_view_module_version": "1.2.0",
            "_view_name": "LayoutView",
            "align_content": null,
            "align_items": null,
            "align_self": null,
            "border": null,
            "bottom": null,
            "display": null,
            "flex": null,
            "flex_flow": null,
            "grid_area": null,
            "grid_auto_columns": null,
            "grid_auto_flow": null,
            "grid_auto_rows": null,
            "grid_column": null,
            "grid_gap": null,
            "grid_row": null,
            "grid_template_areas": null,
            "grid_template_columns": null,
            "grid_template_rows": null,
            "height": null,
            "justify_content": null,
            "justify_items": null,
            "left": null,
            "margin": null,
            "max_height": null,
            "max_width": null,
            "min_height": null,
            "min_width": null,
            "object_fit": null,
            "object_position": null,
            "order": null,
            "overflow": null,
            "overflow_x": null,
            "overflow_y": null,
            "padding": null,
            "right": null,
            "top": null,
            "visibility": null,
            "width": null
          }
        },
        "34480bbf67ef42f686bd9f361e6a922c": {
          "model_module": "@jupyter-widgets/base",
          "model_name": "LayoutModel",
          "model_module_version": "1.2.0",
          "state": {
            "_model_module": "@jupyter-widgets/base",
            "_model_module_version": "1.2.0",
            "_model_name": "LayoutModel",
            "_view_count": null,
            "_view_module": "@jupyter-widgets/base",
            "_view_module_version": "1.2.0",
            "_view_name": "LayoutView",
            "align_content": null,
            "align_items": null,
            "align_self": null,
            "border": null,
            "bottom": null,
            "display": null,
            "flex": null,
            "flex_flow": null,
            "grid_area": null,
            "grid_auto_columns": null,
            "grid_auto_flow": null,
            "grid_auto_rows": null,
            "grid_column": null,
            "grid_gap": null,
            "grid_row": null,
            "grid_template_areas": null,
            "grid_template_columns": null,
            "grid_template_rows": null,
            "height": null,
            "justify_content": null,
            "justify_items": null,
            "left": null,
            "margin": null,
            "max_height": null,
            "max_width": null,
            "min_height": null,
            "min_width": null,
            "object_fit": null,
            "object_position": null,
            "order": null,
            "overflow": null,
            "overflow_x": null,
            "overflow_y": null,
            "padding": null,
            "right": null,
            "top": null,
            "visibility": null,
            "width": null
          }
        },
        "0b11a8c0f4c14b2b9d289a775db74f3c": {
          "model_module": "@jupyter-widgets/controls",
          "model_name": "DescriptionStyleModel",
          "model_module_version": "1.5.0",
          "state": {
            "_model_module": "@jupyter-widgets/controls",
            "_model_module_version": "1.5.0",
            "_model_name": "DescriptionStyleModel",
            "_view_count": null,
            "_view_module": "@jupyter-widgets/base",
            "_view_module_version": "1.2.0",
            "_view_name": "StyleView",
            "description_width": ""
          }
        },
        "7e48be78d66147e69ef6c6a41d10322c": {
          "model_module": "@jupyter-widgets/base",
          "model_name": "LayoutModel",
          "model_module_version": "1.2.0",
          "state": {
            "_model_module": "@jupyter-widgets/base",
            "_model_module_version": "1.2.0",
            "_model_name": "LayoutModel",
            "_view_count": null,
            "_view_module": "@jupyter-widgets/base",
            "_view_module_version": "1.2.0",
            "_view_name": "LayoutView",
            "align_content": null,
            "align_items": null,
            "align_self": null,
            "border": null,
            "bottom": null,
            "display": null,
            "flex": null,
            "flex_flow": null,
            "grid_area": null,
            "grid_auto_columns": null,
            "grid_auto_flow": null,
            "grid_auto_rows": null,
            "grid_column": null,
            "grid_gap": null,
            "grid_row": null,
            "grid_template_areas": null,
            "grid_template_columns": null,
            "grid_template_rows": null,
            "height": null,
            "justify_content": null,
            "justify_items": null,
            "left": null,
            "margin": null,
            "max_height": null,
            "max_width": null,
            "min_height": null,
            "min_width": null,
            "object_fit": null,
            "object_position": null,
            "order": null,
            "overflow": null,
            "overflow_x": null,
            "overflow_y": null,
            "padding": null,
            "right": null,
            "top": null,
            "visibility": null,
            "width": null
          }
        },
        "d664dd37c3134e0ba6414d9da005e12a": {
          "model_module": "@jupyter-widgets/controls",
          "model_name": "ProgressStyleModel",
          "model_module_version": "1.5.0",
          "state": {
            "_model_module": "@jupyter-widgets/controls",
            "_model_module_version": "1.5.0",
            "_model_name": "ProgressStyleModel",
            "_view_count": null,
            "_view_module": "@jupyter-widgets/base",
            "_view_module_version": "1.2.0",
            "_view_name": "StyleView",
            "bar_color": null,
            "description_width": ""
          }
        },
        "8a803b85a9964427a22e36fedb0d9608": {
          "model_module": "@jupyter-widgets/base",
          "model_name": "LayoutModel",
          "model_module_version": "1.2.0",
          "state": {
            "_model_module": "@jupyter-widgets/base",
            "_model_module_version": "1.2.0",
            "_model_name": "LayoutModel",
            "_view_count": null,
            "_view_module": "@jupyter-widgets/base",
            "_view_module_version": "1.2.0",
            "_view_name": "LayoutView",
            "align_content": null,
            "align_items": null,
            "align_self": null,
            "border": null,
            "bottom": null,
            "display": null,
            "flex": null,
            "flex_flow": null,
            "grid_area": null,
            "grid_auto_columns": null,
            "grid_auto_flow": null,
            "grid_auto_rows": null,
            "grid_column": null,
            "grid_gap": null,
            "grid_row": null,
            "grid_template_areas": null,
            "grid_template_columns": null,
            "grid_template_rows": null,
            "height": null,
            "justify_content": null,
            "justify_items": null,
            "left": null,
            "margin": null,
            "max_height": null,
            "max_width": null,
            "min_height": null,
            "min_width": null,
            "object_fit": null,
            "object_position": null,
            "order": null,
            "overflow": null,
            "overflow_x": null,
            "overflow_y": null,
            "padding": null,
            "right": null,
            "top": null,
            "visibility": null,
            "width": null
          }
        },
        "d9d23be2fa4b4382a6f18054f234f8fe": {
          "model_module": "@jupyter-widgets/controls",
          "model_name": "DescriptionStyleModel",
          "model_module_version": "1.5.0",
          "state": {
            "_model_module": "@jupyter-widgets/controls",
            "_model_module_version": "1.5.0",
            "_model_name": "DescriptionStyleModel",
            "_view_count": null,
            "_view_module": "@jupyter-widgets/base",
            "_view_module_version": "1.2.0",
            "_view_name": "StyleView",
            "description_width": ""
          }
        }
      }
    }
  },
  "cells": [
    {
      "cell_type": "code",
      "execution_count": null,
      "metadata": {
        "colab": {
          "base_uri": "https://localhost:8080/"
        },
        "id": "vbNddadFQuYo",
        "outputId": "1f258799-2ce9-4d19-e690-23309de79789"
      },
      "outputs": [
        {
          "output_type": "stream",
          "name": "stdout",
          "text": [
            "Collecting datasets\n",
            "  Downloading datasets-2.20.0-py3-none-any.whl.metadata (19 kB)\n",
            "Requirement already satisfied: filelock in /usr/local/lib/python3.10/dist-packages (from datasets) (3.15.4)\n",
            "Requirement already satisfied: numpy>=1.17 in /usr/local/lib/python3.10/dist-packages (from datasets) (1.26.4)\n",
            "Collecting pyarrow>=15.0.0 (from datasets)\n",
            "  Downloading pyarrow-17.0.0-cp310-cp310-manylinux_2_28_x86_64.whl.metadata (3.3 kB)\n",
            "Requirement already satisfied: pyarrow-hotfix in /usr/local/lib/python3.10/dist-packages (from datasets) (0.6)\n",
            "Collecting dill<0.3.9,>=0.3.0 (from datasets)\n",
            "  Downloading dill-0.3.8-py3-none-any.whl.metadata (10 kB)\n",
            "Requirement already satisfied: pandas in /usr/local/lib/python3.10/dist-packages (from datasets) (2.1.4)\n",
            "Collecting requests>=2.32.2 (from datasets)\n",
            "  Downloading requests-2.32.3-py3-none-any.whl.metadata (4.6 kB)\n",
            "Requirement already satisfied: tqdm>=4.66.3 in /usr/local/lib/python3.10/dist-packages (from datasets) (4.66.4)\n",
            "Collecting xxhash (from datasets)\n",
            "  Downloading xxhash-3.4.1-cp310-cp310-manylinux_2_17_x86_64.manylinux2014_x86_64.whl.metadata (12 kB)\n",
            "Collecting multiprocess (from datasets)\n",
            "  Downloading multiprocess-0.70.16-py310-none-any.whl.metadata (7.2 kB)\n",
            "Collecting fsspec<=2024.5.0,>=2023.1.0 (from fsspec[http]<=2024.5.0,>=2023.1.0->datasets)\n",
            "  Downloading fsspec-2024.5.0-py3-none-any.whl.metadata (11 kB)\n",
            "Requirement already satisfied: aiohttp in /usr/local/lib/python3.10/dist-packages (from datasets) (3.9.5)\n",
            "Requirement already satisfied: huggingface-hub>=0.21.2 in /usr/local/lib/python3.10/dist-packages (from datasets) (0.23.5)\n",
            "Requirement already satisfied: packaging in /usr/local/lib/python3.10/dist-packages (from datasets) (24.1)\n",
            "Requirement already satisfied: pyyaml>=5.1 in /usr/local/lib/python3.10/dist-packages (from datasets) (6.0.1)\n",
            "Requirement already satisfied: aiosignal>=1.1.2 in /usr/local/lib/python3.10/dist-packages (from aiohttp->datasets) (1.3.1)\n",
            "Requirement already satisfied: attrs>=17.3.0 in /usr/local/lib/python3.10/dist-packages (from aiohttp->datasets) (23.2.0)\n",
            "Requirement already satisfied: frozenlist>=1.1.1 in /usr/local/lib/python3.10/dist-packages (from aiohttp->datasets) (1.4.1)\n",
            "Requirement already satisfied: multidict<7.0,>=4.5 in /usr/local/lib/python3.10/dist-packages (from aiohttp->datasets) (6.0.5)\n",
            "Requirement already satisfied: yarl<2.0,>=1.0 in /usr/local/lib/python3.10/dist-packages (from aiohttp->datasets) (1.9.4)\n",
            "Requirement already satisfied: async-timeout<5.0,>=4.0 in /usr/local/lib/python3.10/dist-packages (from aiohttp->datasets) (4.0.3)\n",
            "Requirement already satisfied: typing-extensions>=3.7.4.3 in /usr/local/lib/python3.10/dist-packages (from huggingface-hub>=0.21.2->datasets) (4.12.2)\n",
            "Requirement already satisfied: charset-normalizer<4,>=2 in /usr/local/lib/python3.10/dist-packages (from requests>=2.32.2->datasets) (3.3.2)\n",
            "Requirement already satisfied: idna<4,>=2.5 in /usr/local/lib/python3.10/dist-packages (from requests>=2.32.2->datasets) (3.7)\n",
            "Requirement already satisfied: urllib3<3,>=1.21.1 in /usr/local/lib/python3.10/dist-packages (from requests>=2.32.2->datasets) (2.0.7)\n",
            "Requirement already satisfied: certifi>=2017.4.17 in /usr/local/lib/python3.10/dist-packages (from requests>=2.32.2->datasets) (2024.7.4)\n",
            "Requirement already satisfied: python-dateutil>=2.8.2 in /usr/local/lib/python3.10/dist-packages (from pandas->datasets) (2.8.2)\n",
            "Requirement already satisfied: pytz>=2020.1 in /usr/local/lib/python3.10/dist-packages (from pandas->datasets) (2024.1)\n",
            "Requirement already satisfied: tzdata>=2022.1 in /usr/local/lib/python3.10/dist-packages (from pandas->datasets) (2024.1)\n",
            "Requirement already satisfied: six>=1.5 in /usr/local/lib/python3.10/dist-packages (from python-dateutil>=2.8.2->pandas->datasets) (1.16.0)\n",
            "Downloading datasets-2.20.0-py3-none-any.whl (547 kB)\n",
            "\u001b[2K   \u001b[90m━━━━━━━━━━━━━━━━━━━━━━━━━━━━━━━━━━━━━━━━\u001b[0m \u001b[32m547.8/547.8 kB\u001b[0m \u001b[31m3.9 MB/s\u001b[0m eta \u001b[36m0:00:00\u001b[0m\n",
            "\u001b[?25hDownloading dill-0.3.8-py3-none-any.whl (116 kB)\n",
            "\u001b[2K   \u001b[90m━━━━━━━━━━━━━━━━━━━━━━━━━━━━━━━━━━━━━━━━\u001b[0m \u001b[32m116.3/116.3 kB\u001b[0m \u001b[31m3.3 MB/s\u001b[0m eta \u001b[36m0:00:00\u001b[0m\n",
            "\u001b[?25hDownloading fsspec-2024.5.0-py3-none-any.whl (316 kB)\n",
            "\u001b[2K   \u001b[90m━━━━━━━━━━━━━━━━━━━━━━━━━━━━━━━━━━━━━━━━\u001b[0m \u001b[32m316.1/316.1 kB\u001b[0m \u001b[31m12.1 MB/s\u001b[0m eta \u001b[36m0:00:00\u001b[0m\n",
            "\u001b[?25hDownloading pyarrow-17.0.0-cp310-cp310-manylinux_2_28_x86_64.whl (39.9 MB)\n",
            "\u001b[2K   \u001b[90m━━━━━━━━━━━━━━━━━━━━━━━━━━━━━━━━━━━━━━━━\u001b[0m \u001b[32m39.9/39.9 MB\u001b[0m \u001b[31m11.6 MB/s\u001b[0m eta \u001b[36m0:00:00\u001b[0m\n",
            "\u001b[?25hDownloading requests-2.32.3-py3-none-any.whl (64 kB)\n",
            "\u001b[2K   \u001b[90m━━━━━━━━━━━━━━━━━━━━━━━━━━━━━━━━━━━━━━━━\u001b[0m \u001b[32m64.9/64.9 kB\u001b[0m \u001b[31m2.5 MB/s\u001b[0m eta \u001b[36m0:00:00\u001b[0m\n",
            "\u001b[?25hDownloading multiprocess-0.70.16-py310-none-any.whl (134 kB)\n",
            "\u001b[2K   \u001b[90m━━━━━━━━━━━━━━━━━━━━━━━━━━━━━━━━━━━━━━━━\u001b[0m \u001b[32m134.8/134.8 kB\u001b[0m \u001b[31m7.6 MB/s\u001b[0m eta \u001b[36m0:00:00\u001b[0m\n",
            "\u001b[?25hDownloading xxhash-3.4.1-cp310-cp310-manylinux_2_17_x86_64.manylinux2014_x86_64.whl (194 kB)\n",
            "\u001b[2K   \u001b[90m━━━━━━━━━━━━━━━━━━━━━━━━━━━━━━━━━━━━━━━━\u001b[0m \u001b[32m194.1/194.1 kB\u001b[0m \u001b[31m8.6 MB/s\u001b[0m eta \u001b[36m0:00:00\u001b[0m\n",
            "\u001b[?25hInstalling collected packages: xxhash, requests, pyarrow, fsspec, dill, multiprocess, datasets\n",
            "  Attempting uninstall: requests\n",
            "    Found existing installation: requests 2.31.0\n",
            "    Uninstalling requests-2.31.0:\n",
            "      Successfully uninstalled requests-2.31.0\n",
            "  Attempting uninstall: pyarrow\n",
            "    Found existing installation: pyarrow 14.0.2\n",
            "    Uninstalling pyarrow-14.0.2:\n",
            "      Successfully uninstalled pyarrow-14.0.2\n",
            "  Attempting uninstall: fsspec\n",
            "    Found existing installation: fsspec 2024.6.1\n",
            "    Uninstalling fsspec-2024.6.1:\n",
            "      Successfully uninstalled fsspec-2024.6.1\n",
            "\u001b[31mERROR: pip's dependency resolver does not currently take into account all the packages that are installed. This behaviour is the source of the following dependency conflicts.\n",
            "torch 2.3.1+cu121 requires nvidia-cublas-cu12==12.1.3.1; platform_system == \"Linux\" and platform_machine == \"x86_64\", which is not installed.\n",
            "torch 2.3.1+cu121 requires nvidia-cuda-cupti-cu12==12.1.105; platform_system == \"Linux\" and platform_machine == \"x86_64\", which is not installed.\n",
            "torch 2.3.1+cu121 requires nvidia-cuda-nvrtc-cu12==12.1.105; platform_system == \"Linux\" and platform_machine == \"x86_64\", which is not installed.\n",
            "torch 2.3.1+cu121 requires nvidia-cuda-runtime-cu12==12.1.105; platform_system == \"Linux\" and platform_machine == \"x86_64\", which is not installed.\n",
            "torch 2.3.1+cu121 requires nvidia-cudnn-cu12==8.9.2.26; platform_system == \"Linux\" and platform_machine == \"x86_64\", which is not installed.\n",
            "torch 2.3.1+cu121 requires nvidia-cufft-cu12==11.0.2.54; platform_system == \"Linux\" and platform_machine == \"x86_64\", which is not installed.\n",
            "torch 2.3.1+cu121 requires nvidia-curand-cu12==10.3.2.106; platform_system == \"Linux\" and platform_machine == \"x86_64\", which is not installed.\n",
            "torch 2.3.1+cu121 requires nvidia-cusolver-cu12==11.4.5.107; platform_system == \"Linux\" and platform_machine == \"x86_64\", which is not installed.\n",
            "torch 2.3.1+cu121 requires nvidia-cusparse-cu12==12.1.0.106; platform_system == \"Linux\" and platform_machine == \"x86_64\", which is not installed.\n",
            "torch 2.3.1+cu121 requires nvidia-nccl-cu12==2.20.5; platform_system == \"Linux\" and platform_machine == \"x86_64\", which is not installed.\n",
            "torch 2.3.1+cu121 requires nvidia-nvtx-cu12==12.1.105; platform_system == \"Linux\" and platform_machine == \"x86_64\", which is not installed.\n",
            "cudf-cu12 24.4.1 requires pyarrow<15.0.0a0,>=14.0.1, but you have pyarrow 17.0.0 which is incompatible.\n",
            "gcsfs 2024.6.1 requires fsspec==2024.6.1, but you have fsspec 2024.5.0 which is incompatible.\n",
            "google-colab 1.0.0 requires requests==2.31.0, but you have requests 2.32.3 which is incompatible.\n",
            "ibis-framework 8.0.0 requires pyarrow<16,>=2, but you have pyarrow 17.0.0 which is incompatible.\u001b[0m\u001b[31m\n",
            "\u001b[0mSuccessfully installed datasets-2.20.0 dill-0.3.8 fsspec-2024.5.0 multiprocess-0.70.16 pyarrow-17.0.0 requests-2.32.3 xxhash-3.4.1\n"
          ]
        }
      ],
      "source": [
        "!pip install datasets"
      ]
    },
    {
      "cell_type": "code",
      "source": [
        "from datasets import load_dataset, load_dataset_builder, get_dataset_config_names, get_dataset_split_names\n",
        "import pandas as pd\n",
        "import string\n",
        "import nltk\n",
        "import spacy\n",
        "\n",
        "from nltk.tokenize import word_tokenize\n",
        "from nltk.corpus import stopwords\n",
        "from nltk.util import ngrams\n",
        "from nltk import pos_tag\n",
        "\n",
        "from collections import defaultdict\n",
        "import re\n",
        "import unicodedata\n",
        "import random\n",
        "from nltk.probability import ConditionalFreqDist"
      ],
      "metadata": {
        "id": "r3gE2ISRQvBK"
      },
      "execution_count": null,
      "outputs": []
    },
    {
      "cell_type": "markdown",
      "source": [
        "# **Preprocessing**"
      ],
      "metadata": {
        "id": "upQGfR_aUDiz"
      }
    },
    {
      "cell_type": "markdown",
      "source": [
        "Get Dataset"
      ],
      "metadata": {
        "id": "OnCW_MGQR9za"
      }
    },
    {
      "cell_type": "code",
      "source": [
        "ds_builder = load_dataset_builder(\"squad_v2\")"
      ],
      "metadata": {
        "colab": {
          "base_uri": "https://localhost:8080/",
          "height": 176,
          "referenced_widgets": [
            "7c78235070ad49529c97bb96028cd9c3",
            "9ddf72e62b60496298ec1511ce64c504",
            "90f2f971a2774714b10c53b98be51d29",
            "69806c6573bd46b6bc32b0e1f0352fb8",
            "452cf798475d48b0b0f7d2b550c03c16",
            "12ce88dd263944f698e0db69b4a35180",
            "3eee9743e13a406f84c417516a23e03c",
            "4b1f2e826bba476f93dd92d0f37789b8",
            "27214e99621d41fb9fa3c255495c4527",
            "3cba8e63b68248d3acc794db077afef4",
            "130e2048eca5447cb8ca4a1a4de14fc0"
          ]
        },
        "id": "TJxBtUTnRBQa",
        "outputId": "314e8807-2ebd-4b1d-fd05-f4bfc168224c"
      },
      "execution_count": null,
      "outputs": [
        {
          "output_type": "stream",
          "name": "stderr",
          "text": [
            "/usr/local/lib/python3.10/dist-packages/huggingface_hub/utils/_token.py:89: UserWarning: \n",
            "The secret `HF_TOKEN` does not exist in your Colab secrets.\n",
            "To authenticate with the Hugging Face Hub, create a token in your settings tab (https://huggingface.co/settings/tokens), set it as secret in your Google Colab and restart your session.\n",
            "You will be able to reuse this secret in all of your notebooks.\n",
            "Please note that authentication is recommended but still optional to access public models or datasets.\n",
            "  warnings.warn(\n"
          ]
        },
        {
          "output_type": "display_data",
          "data": {
            "text/plain": [
              "Downloading readme:   0%|          | 0.00/8.92k [00:00<?, ?B/s]"
            ],
            "application/vnd.jupyter.widget-view+json": {
              "version_major": 2,
              "version_minor": 0,
              "model_id": "7c78235070ad49529c97bb96028cd9c3"
            }
          },
          "metadata": {}
        }
      ]
    },
    {
      "cell_type": "code",
      "source": [
        "train_data = load_dataset(\"squad_v2\", split=\"train\")"
      ],
      "metadata": {
        "id": "bozFUEk9RFBa",
        "colab": {
          "base_uri": "https://localhost:8080/",
          "height": 145,
          "referenced_widgets": [
            "ab0283fb0a98469fab73b9eac6bf0ca0",
            "83da4bcf72d54871b423c93444f51c6f",
            "db95c336cd304fbb98a921196b4bc8d6",
            "2ea785bd509e4a929385277933fc7082",
            "0b1ae713898c429f8997cd3861a1db3b",
            "f8ca0980f00741dab0d1a01fcff60ca5",
            "62a22dd44ec44d6ba79c2a7a4b82d2b1",
            "13b8a0bbe4de4d2d9b7cdec50b65546a",
            "5af9fe447b654a46a837f05fa52e56bd",
            "316a695e00714984890bdca9eb6b1225",
            "f1e9164cf5e643f3aa14c3efec6e0ace",
            "96335a85e5fa4e9d90b949c8bd8470db",
            "a8bf5848afaa44098ff2178d63bc8590",
            "3b7040d41977480eab484681bd52afe7",
            "0b2e75993ef24041b85c21e27e23f38a",
            "f285ca68962841ffb457fd9bd4691802",
            "fc7d1afad9a94cd7850e0478abc7e0de",
            "679e77ad36114e19a40655f81bfc5df5",
            "4935b30b4e1847018292e1ebfd1f3c55",
            "022cc945f8cc421094c7e77a774e2bf5",
            "13554bf86e6b42bab02a1ed57c728a48",
            "adcd70e9db474b04a89ad9073fae53bc",
            "1b4a567cae6a490f80c87e4f9f224c9d",
            "5103abaa0a7f452f8bc198569f4c89aa",
            "8cb14fc1c0b14987bef254f5783d4b4d",
            "8505a178ef93418c8b9137039ad9aef2",
            "42eff5f7554d4a298e85c3788b62ffac",
            "c877fe6dcad3404dbbff759a44c6c1f1",
            "39a597e5cd2e42f89c0ff5fe92f9e864",
            "6c664017faab4822b8c7a6f1ad7ff611",
            "fc397bfe8c474e649da2f36ec27ddbc2",
            "486bf0fc5c8b4226a9d099d52cce04a1",
            "adfa3accf98c45a2b4ecbf7a2bde1588",
            "5907c978845e480c8afccdfd4199822e",
            "7e656fa042364b80bc4ed5161a6b57de",
            "b65f81d6d7f04841a556f1110799dd28",
            "8c58bebff5634d59924738ec1df97fbe",
            "c0814553205c4c7799079f37a8ffa643",
            "34480bbf67ef42f686bd9f361e6a922c",
            "0b11a8c0f4c14b2b9d289a775db74f3c",
            "7e48be78d66147e69ef6c6a41d10322c",
            "d664dd37c3134e0ba6414d9da005e12a",
            "8a803b85a9964427a22e36fedb0d9608",
            "d9d23be2fa4b4382a6f18054f234f8fe"
          ]
        },
        "outputId": "911f5b1f-5fa5-42d9-c258-2e090cecb700"
      },
      "execution_count": null,
      "outputs": [
        {
          "output_type": "display_data",
          "data": {
            "text/plain": [
              "Downloading data:   0%|          | 0.00/16.4M [00:00<?, ?B/s]"
            ],
            "application/vnd.jupyter.widget-view+json": {
              "version_major": 2,
              "version_minor": 0,
              "model_id": "ab0283fb0a98469fab73b9eac6bf0ca0"
            }
          },
          "metadata": {}
        },
        {
          "output_type": "display_data",
          "data": {
            "text/plain": [
              "Downloading data:   0%|          | 0.00/1.35M [00:00<?, ?B/s]"
            ],
            "application/vnd.jupyter.widget-view+json": {
              "version_major": 2,
              "version_minor": 0,
              "model_id": "96335a85e5fa4e9d90b949c8bd8470db"
            }
          },
          "metadata": {}
        },
        {
          "output_type": "display_data",
          "data": {
            "text/plain": [
              "Generating train split:   0%|          | 0/130319 [00:00<?, ? examples/s]"
            ],
            "application/vnd.jupyter.widget-view+json": {
              "version_major": 2,
              "version_minor": 0,
              "model_id": "1b4a567cae6a490f80c87e4f9f224c9d"
            }
          },
          "metadata": {}
        },
        {
          "output_type": "display_data",
          "data": {
            "text/plain": [
              "Generating validation split:   0%|          | 0/11873 [00:00<?, ? examples/s]"
            ],
            "application/vnd.jupyter.widget-view+json": {
              "version_major": 2,
              "version_minor": 0,
              "model_id": "5907c978845e480c8afccdfd4199822e"
            }
          },
          "metadata": {}
        }
      ]
    },
    {
      "cell_type": "code",
      "source": [
        "train = pd.DataFrame(train_data)"
      ],
      "metadata": {
        "id": "rFqGW1OSRJFb"
      },
      "execution_count": null,
      "outputs": []
    },
    {
      "cell_type": "code",
      "source": [
        "para = train['context'][200]\n",
        "para"
      ],
      "metadata": {
        "id": "4cHDUofvRg2M",
        "colab": {
          "base_uri": "https://localhost:8080/",
          "height": 107
        },
        "outputId": "a606b901-e81e-403b-952d-515df20e4efa"
      },
      "execution_count": null,
      "outputs": [
        {
          "output_type": "execute_result",
          "data": {
            "text/plain": [
              "'At the 52nd Annual Grammy Awards, Beyoncé received ten nominations, including Album of the Year for I Am... Sasha Fierce, Record of the Year for \"Halo\", and Song of the Year for \"Single Ladies (Put a Ring on It)\", among others. She tied with Lauryn Hill for most Grammy nominations in a single year by a female artist. In 2010, Beyoncé was featured on Lady Gaga\\'s single \"Telephone\" and its music video. The song topped the US Pop Songs chart, becoming the sixth number-one for both Beyoncé and Gaga, tying them with Mariah Carey for most number-ones since the Nielsen Top 40 airplay chart launched in 1992. \"Telephone\" received a Grammy Award nomination for Best Pop Collaboration with Vocals.'"
            ],
            "application/vnd.google.colaboratory.intrinsic+json": {
              "type": "string"
            }
          },
          "metadata": {},
          "execution_count": 6
        }
      ]
    },
    {
      "cell_type": "markdown",
      "source": [
        "Preprocessing"
      ],
      "metadata": {
        "id": "7x46fKqvSwqs"
      }
    },
    {
      "cell_type": "code",
      "source": [
        "nltk.download('punkt')"
      ],
      "metadata": {
        "id": "_DAJNkLNS1p6",
        "colab": {
          "base_uri": "https://localhost:8080/"
        },
        "outputId": "747c4d0d-13d0-40c3-871b-417675dc8a29"
      },
      "execution_count": null,
      "outputs": [
        {
          "output_type": "stream",
          "name": "stderr",
          "text": [
            "[nltk_data] Downloading package punkt to /root/nltk_data...\n",
            "[nltk_data]   Unzipping tokenizers/punkt.zip.\n"
          ]
        },
        {
          "output_type": "execute_result",
          "data": {
            "text/plain": [
              "True"
            ]
          },
          "metadata": {},
          "execution_count": 7
        }
      ]
    },
    {
      "cell_type": "code",
      "source": [
        "para = para.lower()\n",
        "sent = nltk.sent_tokenize(para)\n",
        "\n",
        "remove_digits = str.maketrans('', '',string.digits)\n",
        "remove_punctuation = str.maketrans('', '', string.punctuation)\n",
        "for i in range(len(sent)):\n",
        "    sent[i] = sent[i].translate(remove_digits)\n",
        "    sent[i] = sent[i].translate(remove_punctuation)\n",
        "\n",
        "for i in range(len(sent)):\n",
        "    sent[i] = word_tokenize(sent[i])"
      ],
      "metadata": {
        "id": "yf5OkTJeRl1a"
      },
      "execution_count": null,
      "outputs": []
    },
    {
      "cell_type": "code",
      "source": [
        "sent[0]"
      ],
      "metadata": {
        "id": "lJKOSp40Sy7r",
        "colab": {
          "base_uri": "https://localhost:8080/"
        },
        "outputId": "275e9514-bb03-42d8-ef7d-06a4c5478475"
      },
      "execution_count": null,
      "outputs": [
        {
          "output_type": "execute_result",
          "data": {
            "text/plain": [
              "['at',\n",
              " 'the',\n",
              " 'nd',\n",
              " 'annual',\n",
              " 'grammy',\n",
              " 'awards',\n",
              " 'beyoncé',\n",
              " 'received',\n",
              " 'ten',\n",
              " 'nominations',\n",
              " 'including',\n",
              " 'album',\n",
              " 'of',\n",
              " 'the',\n",
              " 'year',\n",
              " 'for',\n",
              " 'i',\n",
              " 'am',\n",
              " 'sasha',\n",
              " 'fierce',\n",
              " 'record',\n",
              " 'of',\n",
              " 'the',\n",
              " 'year',\n",
              " 'for',\n",
              " 'halo',\n",
              " 'and',\n",
              " 'song',\n",
              " 'of',\n",
              " 'the',\n",
              " 'year',\n",
              " 'for',\n",
              " 'single',\n",
              " 'ladies',\n",
              " 'put',\n",
              " 'a',\n",
              " 'ring',\n",
              " 'on',\n",
              " 'it',\n",
              " 'among',\n",
              " 'others']"
            ]
          },
          "metadata": {},
          "execution_count": 9
        }
      ]
    },
    {
      "cell_type": "markdown",
      "source": [
        "# **Part of Speech Tagging**"
      ],
      "metadata": {
        "id": "e_iap7JDT7Tr"
      }
    },
    {
      "cell_type": "code",
      "source": [
        "nltk.download('averaged_perceptron_tagger')"
      ],
      "metadata": {
        "colab": {
          "base_uri": "https://localhost:8080/"
        },
        "id": "jcp-6nA4T5os",
        "outputId": "821d6103-bb1a-4bb0-fcb4-9a66f4413c67"
      },
      "execution_count": null,
      "outputs": [
        {
          "output_type": "stream",
          "name": "stderr",
          "text": [
            "[nltk_data] Downloading package averaged_perceptron_tagger to\n",
            "[nltk_data]     /root/nltk_data...\n",
            "[nltk_data]   Unzipping taggers/averaged_perceptron_tagger.zip.\n"
          ]
        },
        {
          "output_type": "execute_result",
          "data": {
            "text/plain": [
              "True"
            ]
          },
          "metadata": {},
          "execution_count": 11
        }
      ]
    },
    {
      "cell_type": "code",
      "source": [
        "tagged = []\n",
        "\n",
        "for i in sent:\n",
        "  tagged.append(pos_tag(i))"
      ],
      "metadata": {
        "id": "FepSaJS5S6T6"
      },
      "execution_count": null,
      "outputs": []
    },
    {
      "cell_type": "code",
      "source": [
        "tagged"
      ],
      "metadata": {
        "colab": {
          "base_uri": "https://localhost:8080/"
        },
        "id": "ICAp_thBT3tc",
        "outputId": "01be981d-7048-43e5-a797-bb9a387d8a86"
      },
      "execution_count": null,
      "outputs": [
        {
          "output_type": "execute_result",
          "data": {
            "text/plain": [
              "[[('at', 'IN'),\n",
              "  ('the', 'DT'),\n",
              "  ('nd', 'JJ'),\n",
              "  ('annual', 'JJ'),\n",
              "  ('grammy', 'NN'),\n",
              "  ('awards', 'NNS'),\n",
              "  ('beyoncé', 'VBP'),\n",
              "  ('received', 'VBN'),\n",
              "  ('ten', 'JJ'),\n",
              "  ('nominations', 'NNS'),\n",
              "  ('including', 'VBG'),\n",
              "  ('album', 'NN'),\n",
              "  ('of', 'IN'),\n",
              "  ('the', 'DT'),\n",
              "  ('year', 'NN'),\n",
              "  ('for', 'IN'),\n",
              "  ('i', 'NN'),\n",
              "  ('am', 'VBP'),\n",
              "  ('sasha', 'JJ'),\n",
              "  ('fierce', 'NN'),\n",
              "  ('record', 'NN'),\n",
              "  ('of', 'IN'),\n",
              "  ('the', 'DT'),\n",
              "  ('year', 'NN'),\n",
              "  ('for', 'IN'),\n",
              "  ('halo', 'NN'),\n",
              "  ('and', 'CC'),\n",
              "  ('song', 'NN'),\n",
              "  ('of', 'IN'),\n",
              "  ('the', 'DT'),\n",
              "  ('year', 'NN'),\n",
              "  ('for', 'IN'),\n",
              "  ('single', 'JJ'),\n",
              "  ('ladies', 'NNS'),\n",
              "  ('put', 'VBD'),\n",
              "  ('a', 'DT'),\n",
              "  ('ring', 'NN'),\n",
              "  ('on', 'IN'),\n",
              "  ('it', 'PRP'),\n",
              "  ('among', 'IN'),\n",
              "  ('others', 'NNS')],\n",
              " [('she', 'PRP'),\n",
              "  ('tied', 'VBD'),\n",
              "  ('with', 'IN'),\n",
              "  ('lauryn', 'NN'),\n",
              "  ('hill', 'NN'),\n",
              "  ('for', 'IN'),\n",
              "  ('most', 'JJS'),\n",
              "  ('grammy', 'JJ'),\n",
              "  ('nominations', 'NNS'),\n",
              "  ('in', 'IN'),\n",
              "  ('a', 'DT'),\n",
              "  ('single', 'JJ'),\n",
              "  ('year', 'NN'),\n",
              "  ('by', 'IN'),\n",
              "  ('a', 'DT'),\n",
              "  ('female', 'JJ'),\n",
              "  ('artist', 'NN')],\n",
              " [('in', 'IN'),\n",
              "  ('beyoncé', 'NN'),\n",
              "  ('was', 'VBD'),\n",
              "  ('featured', 'VBN'),\n",
              "  ('on', 'IN'),\n",
              "  ('lady', 'NN'),\n",
              "  ('gagas', 'NN'),\n",
              "  ('single', 'JJ'),\n",
              "  ('telephone', 'NN'),\n",
              "  ('and', 'CC'),\n",
              "  ('its', 'PRP$'),\n",
              "  ('music', 'NN'),\n",
              "  ('video', 'NN')],\n",
              " [('the', 'DT'),\n",
              "  ('song', 'NN'),\n",
              "  ('topped', 'VBD'),\n",
              "  ('the', 'DT'),\n",
              "  ('us', 'PRP'),\n",
              "  ('pop', 'VBP'),\n",
              "  ('songs', 'NNS'),\n",
              "  ('chart', 'VBP'),\n",
              "  ('becoming', 'VBG'),\n",
              "  ('the', 'DT'),\n",
              "  ('sixth', 'JJ'),\n",
              "  ('numberone', 'NN'),\n",
              "  ('for', 'IN'),\n",
              "  ('both', 'DT'),\n",
              "  ('beyoncé', 'NN'),\n",
              "  ('and', 'CC'),\n",
              "  ('gaga', 'NN'),\n",
              "  ('tying', 'VBG'),\n",
              "  ('them', 'PRP'),\n",
              "  ('with', 'IN'),\n",
              "  ('mariah', 'NN'),\n",
              "  ('carey', 'NN'),\n",
              "  ('for', 'IN'),\n",
              "  ('most', 'JJS'),\n",
              "  ('numberones', 'NNS'),\n",
              "  ('since', 'IN'),\n",
              "  ('the', 'DT'),\n",
              "  ('nielsen', 'JJ'),\n",
              "  ('top', 'JJ'),\n",
              "  ('airplay', 'NN'),\n",
              "  ('chart', 'NN'),\n",
              "  ('launched', 'VBN'),\n",
              "  ('in', 'IN')],\n",
              " [('telephone', 'NN'),\n",
              "  ('received', 'VBD'),\n",
              "  ('a', 'DT'),\n",
              "  ('grammy', 'JJ'),\n",
              "  ('award', 'NN'),\n",
              "  ('nomination', 'NN'),\n",
              "  ('for', 'IN'),\n",
              "  ('best', 'JJS'),\n",
              "  ('pop', 'NN'),\n",
              "  ('collaboration', 'NN'),\n",
              "  ('with', 'IN'),\n",
              "  ('vocals', 'NNS')]]"
            ]
          },
          "metadata": {},
          "execution_count": 13
        }
      ]
    },
    {
      "cell_type": "code",
      "source": [
        "corpus = para\n",
        "corpus"
      ],
      "metadata": {
        "colab": {
          "base_uri": "https://localhost:8080/",
          "height": 107
        },
        "id": "J7HM__YAUOsb",
        "outputId": "8a8c6723-fc9f-41e6-bf25-e21d063c2483"
      },
      "execution_count": null,
      "outputs": [
        {
          "output_type": "execute_result",
          "data": {
            "text/plain": [
              "'at the 52nd annual grammy awards, beyoncé received ten nominations, including album of the year for i am... sasha fierce, record of the year for \"halo\", and song of the year for \"single ladies (put a ring on it)\", among others. she tied with lauryn hill for most grammy nominations in a single year by a female artist. in 2010, beyoncé was featured on lady gaga\\'s single \"telephone\" and its music video. the song topped the us pop songs chart, becoming the sixth number-one for both beyoncé and gaga, tying them with mariah carey for most number-ones since the nielsen top 40 airplay chart launched in 1992. \"telephone\" received a grammy award nomination for best pop collaboration with vocals.'"
            ],
            "application/vnd.google.colaboratory.intrinsic+json": {
              "type": "string"
            }
          },
          "metadata": {},
          "execution_count": 14
        }
      ]
    },
    {
      "cell_type": "markdown",
      "source": [
        "# Bigram"
      ],
      "metadata": {
        "id": "F13ZXUwbRwKk"
      }
    },
    {
      "cell_type": "markdown",
      "source": [
        "Get Initial probabailities from corpus"
      ],
      "metadata": {
        "id": "37U-lxW4Wnis"
      }
    },
    {
      "cell_type": "code",
      "source": [
        "def build_conditional_probabilities(corpus):\n",
        "\ttokenized_string = corpus.split()\n",
        "\tprevious_word = \"\"\n",
        "\tdictionnary = defaultdict(list)\n",
        "\n",
        "\tfor current_word in tokenized_string:\n",
        "\t\tif previous_word != \"\":\n",
        "\t\t\tdictionnary[previous_word].append(current_word)\n",
        "\t\tprevious_word = current_word\n",
        "\n",
        "\tfor key in dictionnary.keys():\n",
        "\t\tnext_words = dictionnary[key]\n",
        "\t\tunique_words = set(next_words)\n",
        "\t\tnb_words = len(next_words)\n",
        "\t\tprobabilities_given_key = {}\n",
        "\t\tfor unique_word in unique_words:\n",
        "\t\t\tprobabilities_given_key[unique_word] = \\\n",
        "\t\t\t\tfloat(next_words.count(unique_word)) / nb_words\n",
        "\t\tdictionnary[key] = probabilities_given_key\n",
        "\n",
        "\treturn dictionnary"
      ],
      "metadata": {
        "id": "iMlevCsaVaQc"
      },
      "execution_count": null,
      "outputs": []
    },
    {
      "cell_type": "markdown",
      "source": [
        "Get probabalities of next word"
      ],
      "metadata": {
        "id": "bSWpYf5KXwf8"
      }
    },
    {
      "cell_type": "code",
      "source": [
        "def get_next_word(conditional_probabilities, current, next_candidate):\n",
        "\n",
        "\tif current in conditional_probabilities:\n",
        "\t\tif next_candidate in conditional_probabilities[current]:\n",
        "\t\t\treturn conditional_probabilities[current][next_candidate]\n",
        "\n",
        "\treturn 0"
      ],
      "metadata": {
        "id": "5Y-_aRtdXc5c"
      },
      "execution_count": null,
      "outputs": []
    },
    {
      "cell_type": "code",
      "source": [
        "remove_digits = str.maketrans('', '',string.digits)\n",
        "remove_punctuation = str.maketrans('', '', string.punctuation)\n",
        "corpus = corpus.translate(remove_digits)\n",
        "corpus = corpus.translate(remove_punctuation)\n",
        "tokens = list(set(word_tokenize(corpus)))\n",
        "\n",
        "corpus"
      ],
      "metadata": {
        "colab": {
          "base_uri": "https://localhost:8080/",
          "height": 107
        },
        "id": "bxU0vmQAX1kd",
        "outputId": "3b499978-aa69-4ca9-fe03-d4ac2bd57e48"
      },
      "execution_count": null,
      "outputs": [
        {
          "output_type": "execute_result",
          "data": {
            "text/plain": [
              "'at the nd annual grammy awards beyoncé received ten nominations including album of the year for i am sasha fierce record of the year for halo and song of the year for single ladies put a ring on it among others she tied with lauryn hill for most grammy nominations in a single year by a female artist in  beyoncé was featured on lady gagas single telephone and its music video the song topped the us pop songs chart becoming the sixth numberone for both beyoncé and gaga tying them with mariah carey for most numberones since the nielsen top  airplay chart launched in  telephone received a grammy award nomination for best pop collaboration with vocals'"
            ],
            "application/vnd.google.colaboratory.intrinsic+json": {
              "type": "string"
            }
          },
          "metadata": {},
          "execution_count": 17
        }
      ]
    },
    {
      "cell_type": "code",
      "source": [
        "conditional_probabilities = build_conditional_probabilities(corpus)"
      ],
      "metadata": {
        "id": "9gVIPZMjYFnd"
      },
      "execution_count": null,
      "outputs": []
    },
    {
      "cell_type": "code",
      "source": [
        "def check_sentence(s):\n",
        "  prev = \"\"\n",
        "  cum = 0\n",
        "  for i in s.split():\n",
        "    cum+=get_next_word(conditional_probabilities, prev, i)\n",
        "    prev = i\n",
        "\n",
        "  return cum"
      ],
      "metadata": {
        "id": "4BYRFpNMe0R3"
      },
      "execution_count": null,
      "outputs": []
    },
    {
      "cell_type": "code",
      "source": [
        "#s1 = input(\"Enter a sentence - \")\n",
        "#s2 = input(\"Enter a sentence again - \")\n",
        "\n",
        "s1 = 'beyoncé received song of the year'\n",
        "s2 = 'song of the year received beyoncé'\n",
        "\n",
        "c1 = check_sentence(s1)\n",
        "c2 = check_sentence(s2)\n",
        "\n",
        "if c1>c2:\n",
        "  print(f'\"{s1}\"', end=' ')\n",
        "else:\n",
        "  print(f'\"{s2}\"', end=' ')\n",
        "\n",
        "print('IS more probabale')"
      ],
      "metadata": {
        "colab": {
          "base_uri": "https://localhost:8080/"
        },
        "id": "s_zRauzgY9vc",
        "outputId": "6e39ddd3-94fd-486e-dfab-4a674eeef908"
      },
      "execution_count": null,
      "outputs": [
        {
          "output_type": "stream",
          "name": "stdout",
          "text": [
            "\"beyoncé received song of the year\" IS more probabale\n"
          ]
        }
      ]
    },
    {
      "cell_type": "markdown",
      "source": [
        "# Trigram"
      ],
      "metadata": {
        "id": "OP98qgqLS8tX"
      }
    },
    {
      "cell_type": "code",
      "source": [
        "text = corpus.split()"
      ],
      "metadata": {
        "id": "oStE2PDvXNpa"
      },
      "execution_count": null,
      "outputs": []
    },
    {
      "cell_type": "code",
      "source": [
        "trigrams = list(nltk.ngrams(text, 3, pad_left=True, pad_right=True, left_pad_symbol='<s>', right_pad_symbol='</s>'))\n",
        "trigrams"
      ],
      "metadata": {
        "colab": {
          "base_uri": "https://localhost:8080/"
        },
        "id": "yhgfvDA_VciF",
        "outputId": "d6b84f68-d539-4057-c046-fdd0ab44074a"
      },
      "execution_count": null,
      "outputs": [
        {
          "output_type": "execute_result",
          "data": {
            "text/plain": [
              "[('<s>', '<s>', 'at'),\n",
              " ('<s>', 'at', 'the'),\n",
              " ('at', 'the', 'nd'),\n",
              " ('the', 'nd', 'annual'),\n",
              " ('nd', 'annual', 'grammy'),\n",
              " ('annual', 'grammy', 'awards'),\n",
              " ('grammy', 'awards', 'beyoncé'),\n",
              " ('awards', 'beyoncé', 'received'),\n",
              " ('beyoncé', 'received', 'ten'),\n",
              " ('received', 'ten', 'nominations'),\n",
              " ('ten', 'nominations', 'including'),\n",
              " ('nominations', 'including', 'album'),\n",
              " ('including', 'album', 'of'),\n",
              " ('album', 'of', 'the'),\n",
              " ('of', 'the', 'year'),\n",
              " ('the', 'year', 'for'),\n",
              " ('year', 'for', 'i'),\n",
              " ('for', 'i', 'am'),\n",
              " ('i', 'am', 'sasha'),\n",
              " ('am', 'sasha', 'fierce'),\n",
              " ('sasha', 'fierce', 'record'),\n",
              " ('fierce', 'record', 'of'),\n",
              " ('record', 'of', 'the'),\n",
              " ('of', 'the', 'year'),\n",
              " ('the', 'year', 'for'),\n",
              " ('year', 'for', 'halo'),\n",
              " ('for', 'halo', 'and'),\n",
              " ('halo', 'and', 'song'),\n",
              " ('and', 'song', 'of'),\n",
              " ('song', 'of', 'the'),\n",
              " ('of', 'the', 'year'),\n",
              " ('the', 'year', 'for'),\n",
              " ('year', 'for', 'single'),\n",
              " ('for', 'single', 'ladies'),\n",
              " ('single', 'ladies', 'put'),\n",
              " ('ladies', 'put', 'a'),\n",
              " ('put', 'a', 'ring'),\n",
              " ('a', 'ring', 'on'),\n",
              " ('ring', 'on', 'it'),\n",
              " ('on', 'it', 'among'),\n",
              " ('it', 'among', 'others'),\n",
              " ('among', 'others', 'she'),\n",
              " ('others', 'she', 'tied'),\n",
              " ('she', 'tied', 'with'),\n",
              " ('tied', 'with', 'lauryn'),\n",
              " ('with', 'lauryn', 'hill'),\n",
              " ('lauryn', 'hill', 'for'),\n",
              " ('hill', 'for', 'most'),\n",
              " ('for', 'most', 'grammy'),\n",
              " ('most', 'grammy', 'nominations'),\n",
              " ('grammy', 'nominations', 'in'),\n",
              " ('nominations', 'in', 'a'),\n",
              " ('in', 'a', 'single'),\n",
              " ('a', 'single', 'year'),\n",
              " ('single', 'year', 'by'),\n",
              " ('year', 'by', 'a'),\n",
              " ('by', 'a', 'female'),\n",
              " ('a', 'female', 'artist'),\n",
              " ('female', 'artist', 'in'),\n",
              " ('artist', 'in', 'beyoncé'),\n",
              " ('in', 'beyoncé', 'was'),\n",
              " ('beyoncé', 'was', 'featured'),\n",
              " ('was', 'featured', 'on'),\n",
              " ('featured', 'on', 'lady'),\n",
              " ('on', 'lady', 'gagas'),\n",
              " ('lady', 'gagas', 'single'),\n",
              " ('gagas', 'single', 'telephone'),\n",
              " ('single', 'telephone', 'and'),\n",
              " ('telephone', 'and', 'its'),\n",
              " ('and', 'its', 'music'),\n",
              " ('its', 'music', 'video'),\n",
              " ('music', 'video', 'the'),\n",
              " ('video', 'the', 'song'),\n",
              " ('the', 'song', 'topped'),\n",
              " ('song', 'topped', 'the'),\n",
              " ('topped', 'the', 'us'),\n",
              " ('the', 'us', 'pop'),\n",
              " ('us', 'pop', 'songs'),\n",
              " ('pop', 'songs', 'chart'),\n",
              " ('songs', 'chart', 'becoming'),\n",
              " ('chart', 'becoming', 'the'),\n",
              " ('becoming', 'the', 'sixth'),\n",
              " ('the', 'sixth', 'numberone'),\n",
              " ('sixth', 'numberone', 'for'),\n",
              " ('numberone', 'for', 'both'),\n",
              " ('for', 'both', 'beyoncé'),\n",
              " ('both', 'beyoncé', 'and'),\n",
              " ('beyoncé', 'and', 'gaga'),\n",
              " ('and', 'gaga', 'tying'),\n",
              " ('gaga', 'tying', 'them'),\n",
              " ('tying', 'them', 'with'),\n",
              " ('them', 'with', 'mariah'),\n",
              " ('with', 'mariah', 'carey'),\n",
              " ('mariah', 'carey', 'for'),\n",
              " ('carey', 'for', 'most'),\n",
              " ('for', 'most', 'numberones'),\n",
              " ('most', 'numberones', 'since'),\n",
              " ('numberones', 'since', 'the'),\n",
              " ('since', 'the', 'nielsen'),\n",
              " ('the', 'nielsen', 'top'),\n",
              " ('nielsen', 'top', 'airplay'),\n",
              " ('top', 'airplay', 'chart'),\n",
              " ('airplay', 'chart', 'launched'),\n",
              " ('chart', 'launched', 'in'),\n",
              " ('launched', 'in', 'telephone'),\n",
              " ('in', 'telephone', 'received'),\n",
              " ('telephone', 'received', 'a'),\n",
              " ('received', 'a', 'grammy'),\n",
              " ('a', 'grammy', 'award'),\n",
              " ('grammy', 'award', 'nomination'),\n",
              " ('award', 'nomination', 'for'),\n",
              " ('nomination', 'for', 'best'),\n",
              " ('for', 'best', 'pop'),\n",
              " ('best', 'pop', 'collaboration'),\n",
              " ('pop', 'collaboration', 'with'),\n",
              " ('collaboration', 'with', 'vocals'),\n",
              " ('with', 'vocals', '</s>'),\n",
              " ('vocals', '</s>', '</s>')]"
            ]
          },
          "metadata": {},
          "execution_count": 44
        }
      ]
    },
    {
      "cell_type": "code",
      "source": [
        "cfdist = ConditionalFreqDist()\n",
        "\n",
        "for w1, w2, w3 in trigrams:\n",
        "  cfdist[(w1, w2)][w3] += 1\n",
        "\n",
        "for w1_w2 in cfdist:\n",
        "  total_count = float(sum(cfdist[w1_w2].values()))\n",
        "  for w3 in cfdist[w1_w2]:\n",
        "    cfdist[w1_w2][w3] /= total_count"
      ],
      "metadata": {
        "id": "jmxpXNSTWClt"
      },
      "execution_count": null,
      "outputs": []
    },
    {
      "cell_type": "code",
      "source": [
        "def predict(model, user_input):\n",
        "    user_input = filter(user_input)\n",
        "    user_input = user_input.split()\n",
        "\n",
        "    w1 = len(user_input) - 2\n",
        "    w2 = len(user_input)\n",
        "    prev_words = user_input[w1:w2]\n",
        "\n",
        "    # display prediction from highest to lowest maximum likelihood\n",
        "    prediction = sorted(dict(model[prev_words[0], prev_words[1]]), key=lambda x: dict(model[prev_words[0], prev_words[1]])[x], reverse=True)\n",
        "    print(\"Trigram model predictions: \", prediction)\n",
        "\n",
        "    word = []\n",
        "    weight = []\n",
        "    for key, prob in dict(model[prev_words[0], prev_words[1]]).items():\n",
        "        word.append(key)\n",
        "        weight.append(prob)\n",
        "    # pick from a weighted random probability of predictions\n",
        "    next_word = random.choices(word, weights=weight, k=1)\n",
        "    # add predicted word to user input\n",
        "    user_input.append(next_word[0])\n",
        "    print(' '.join(user_input))\n",
        "\n",
        "    return ' '.join(user_input)"
      ],
      "metadata": {
        "id": "8BPQpwmjYDcD"
      },
      "execution_count": null,
      "outputs": []
    },
    {
      "cell_type": "code",
      "source": [
        "def filter(text):\n",
        "    # normalize text\n",
        "    text = (unicodedata.normalize('NFKD', text).encode('ascii', 'ignore').decode('utf-8', 'ignore'))\n",
        "    # replace html chars with ' '\n",
        "    text = re.sub('<.*?>', ' ', text)\n",
        "    # remove punctuation\n",
        "    text = text.translate(str.maketrans(' ', ' ', string.punctuation))\n",
        "    # only alphabets and numerics\n",
        "    text = re.sub('[^a-zA-Z]', ' ', text)\n",
        "    # replace newline with space\n",
        "    text = re.sub(\"\\n\", \" \", text)\n",
        "    # lower case\n",
        "    text = text.lower()\n",
        "    # split and join the words\n",
        "    text = ' '.join(text.split())\n",
        "\n",
        "    return text"
      ],
      "metadata": {
        "id": "UK9Uv-z6aJHK"
      },
      "execution_count": null,
      "outputs": []
    },
    {
      "cell_type": "code",
      "source": [
        "#s1 = input()\n",
        "s1 = \"beyoncé received song of the\"\n",
        "s2 = \"beyoncé received song of the\"\n",
        "\n",
        "print(\"Simple Prediction: \", end = '')\n",
        "predict(cfdist, s1)\n",
        "\n",
        "print(\"Entire sentence Prediction: \", end = '')\n",
        "s2 = predict(cfdist, s2)\n",
        "s2 = predict(cfdist, s2)\n",
        "s2 = predict(cfdist, s2)\n",
        "s2 = predict(cfdist, s2)\n",
        "s2 = predict(cfdist, s2)\n",
        "s2 = predict(cfdist, s2)"
      ],
      "metadata": {
        "colab": {
          "base_uri": "https://localhost:8080/"
        },
        "id": "4LNq15C2Ynb6",
        "outputId": "ce80ada1-dbb7-4a00-8366-0af822ff893e"
      },
      "execution_count": null,
      "outputs": [
        {
          "output_type": "stream",
          "name": "stdout",
          "text": [
            "Simple Prediction: Trigram model predictions:  ['year']\n",
            "beyonce received song of the year\n",
            "Entire sentence Prediction: Trigram model predictions:  ['year']\n",
            "beyonce received song of the year\n",
            "Trigram model predictions:  ['for']\n",
            "beyonce received song of the year for\n",
            "Trigram model predictions:  ['i', 'halo', 'single']\n",
            "beyonce received song of the year for i\n",
            "Trigram model predictions:  ['am']\n",
            "beyonce received song of the year for i am\n",
            "Trigram model predictions:  ['sasha']\n",
            "beyonce received song of the year for i am sasha\n",
            "Trigram model predictions:  ['fierce']\n",
            "beyonce received song of the year for i am sasha fierce\n"
          ]
        }
      ]
    },
    {
      "cell_type": "code",
      "source": [],
      "metadata": {
        "id": "oZYYCQm6Z1Ix"
      },
      "execution_count": null,
      "outputs": []
    }
  ]
}